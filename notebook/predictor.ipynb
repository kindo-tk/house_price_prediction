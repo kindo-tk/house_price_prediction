{
 "cells": [
  {
   "cell_type": "markdown",
   "metadata": {},
   "source": [
    "# Bangalore_house_price_prediction"
   ]
  },
  {
   "cell_type": "markdown",
   "metadata": {},
   "source": [
    "## Importing the necessary libraries"
   ]
  },
  {
   "cell_type": "code",
   "execution_count": 216,
   "metadata": {},
   "outputs": [],
   "source": [
    "import numpy as np\n",
    "import pandas as pd\n",
    "import warnings\n",
    "from sklearn.model_selection import train_test_split, cross_val_score, GridSearchCV\n",
    "from sklearn.linear_model import LinearRegression, Lasso, Ridge\n",
    "from sklearn.tree import DecisionTreeRegressor\n",
    "from sklearn.ensemble import RandomForestRegressor\n",
    "from sklearn.preprocessing import OneHotEncoder, StandardScaler\n",
    "from sklearn.compose import make_column_transformer\n",
    "from sklearn.pipeline import make_pipeline\n",
    "from sklearn.metrics import r2_score, mean_absolute_error, mean_squared_error\n",
    "from xgboost import XGBRegressor\n",
    "import pickle"
   ]
  },
  {
   "cell_type": "markdown",
   "metadata": {},
   "source": [
    "## Reading the dataset"
   ]
  },
  {
   "cell_type": "code",
   "execution_count": 217,
   "metadata": {},
   "outputs": [],
   "source": [
    "df = pd.read_csv(r\"D:\\study material\\PWskills DATA SCIENCE\\Projects\\Machine_Learning_Projects\\house_price_prediction\\dataset\\Bengaluru_House_Data.csv\")"
   ]
  },
  {
   "cell_type": "code",
   "execution_count": 218,
   "metadata": {},
   "outputs": [
    {
     "data": {
      "application/vnd.microsoft.datawrangler.viewer.v0+json": {
       "columns": [
        {
         "name": "index",
         "rawType": "int64",
         "type": "integer"
        },
        {
         "name": "area_type",
         "rawType": "object",
         "type": "string"
        },
        {
         "name": "availability",
         "rawType": "object",
         "type": "string"
        },
        {
         "name": "location",
         "rawType": "object",
         "type": "string"
        },
        {
         "name": "size",
         "rawType": "object",
         "type": "string"
        },
        {
         "name": "society",
         "rawType": "object",
         "type": "unknown"
        },
        {
         "name": "total_sqft",
         "rawType": "object",
         "type": "string"
        },
        {
         "name": "bath",
         "rawType": "float64",
         "type": "float"
        },
        {
         "name": "balcony",
         "rawType": "float64",
         "type": "float"
        },
        {
         "name": "price",
         "rawType": "float64",
         "type": "float"
        }
       ],
       "ref": "34f2a7ad-cf8a-4999-9f63-f64a340e1c0d",
       "rows": [
        [
         "0",
         "Super built-up  Area",
         "19-Dec",
         "Electronic City Phase II",
         "2 BHK",
         "Coomee ",
         "1056",
         "2.0",
         "1.0",
         "39.07"
        ],
        [
         "1",
         "Plot  Area",
         "Ready To Move",
         "Chikka Tirupathi",
         "4 Bedroom",
         "Theanmp",
         "2600",
         "5.0",
         "3.0",
         "120.0"
        ],
        [
         "2",
         "Built-up  Area",
         "Ready To Move",
         "Uttarahalli",
         "3 BHK",
         null,
         "1440",
         "2.0",
         "3.0",
         "62.0"
        ],
        [
         "3",
         "Super built-up  Area",
         "Ready To Move",
         "Lingadheeranahalli",
         "3 BHK",
         "Soiewre",
         "1521",
         "3.0",
         "1.0",
         "95.0"
        ],
        [
         "4",
         "Super built-up  Area",
         "Ready To Move",
         "Kothanur",
         "2 BHK",
         null,
         "1200",
         "2.0",
         "1.0",
         "51.0"
        ]
       ],
       "shape": {
        "columns": 9,
        "rows": 5
       }
      },
      "text/html": [
       "<div>\n",
       "<style scoped>\n",
       "    .dataframe tbody tr th:only-of-type {\n",
       "        vertical-align: middle;\n",
       "    }\n",
       "\n",
       "    .dataframe tbody tr th {\n",
       "        vertical-align: top;\n",
       "    }\n",
       "\n",
       "    .dataframe thead th {\n",
       "        text-align: right;\n",
       "    }\n",
       "</style>\n",
       "<table border=\"1\" class=\"dataframe\">\n",
       "  <thead>\n",
       "    <tr style=\"text-align: right;\">\n",
       "      <th></th>\n",
       "      <th>area_type</th>\n",
       "      <th>availability</th>\n",
       "      <th>location</th>\n",
       "      <th>size</th>\n",
       "      <th>society</th>\n",
       "      <th>total_sqft</th>\n",
       "      <th>bath</th>\n",
       "      <th>balcony</th>\n",
       "      <th>price</th>\n",
       "    </tr>\n",
       "  </thead>\n",
       "  <tbody>\n",
       "    <tr>\n",
       "      <th>0</th>\n",
       "      <td>Super built-up  Area</td>\n",
       "      <td>19-Dec</td>\n",
       "      <td>Electronic City Phase II</td>\n",
       "      <td>2 BHK</td>\n",
       "      <td>Coomee</td>\n",
       "      <td>1056</td>\n",
       "      <td>2.0</td>\n",
       "      <td>1.0</td>\n",
       "      <td>39.07</td>\n",
       "    </tr>\n",
       "    <tr>\n",
       "      <th>1</th>\n",
       "      <td>Plot  Area</td>\n",
       "      <td>Ready To Move</td>\n",
       "      <td>Chikka Tirupathi</td>\n",
       "      <td>4 Bedroom</td>\n",
       "      <td>Theanmp</td>\n",
       "      <td>2600</td>\n",
       "      <td>5.0</td>\n",
       "      <td>3.0</td>\n",
       "      <td>120.00</td>\n",
       "    </tr>\n",
       "    <tr>\n",
       "      <th>2</th>\n",
       "      <td>Built-up  Area</td>\n",
       "      <td>Ready To Move</td>\n",
       "      <td>Uttarahalli</td>\n",
       "      <td>3 BHK</td>\n",
       "      <td>NaN</td>\n",
       "      <td>1440</td>\n",
       "      <td>2.0</td>\n",
       "      <td>3.0</td>\n",
       "      <td>62.00</td>\n",
       "    </tr>\n",
       "    <tr>\n",
       "      <th>3</th>\n",
       "      <td>Super built-up  Area</td>\n",
       "      <td>Ready To Move</td>\n",
       "      <td>Lingadheeranahalli</td>\n",
       "      <td>3 BHK</td>\n",
       "      <td>Soiewre</td>\n",
       "      <td>1521</td>\n",
       "      <td>3.0</td>\n",
       "      <td>1.0</td>\n",
       "      <td>95.00</td>\n",
       "    </tr>\n",
       "    <tr>\n",
       "      <th>4</th>\n",
       "      <td>Super built-up  Area</td>\n",
       "      <td>Ready To Move</td>\n",
       "      <td>Kothanur</td>\n",
       "      <td>2 BHK</td>\n",
       "      <td>NaN</td>\n",
       "      <td>1200</td>\n",
       "      <td>2.0</td>\n",
       "      <td>1.0</td>\n",
       "      <td>51.00</td>\n",
       "    </tr>\n",
       "  </tbody>\n",
       "</table>\n",
       "</div>"
      ],
      "text/plain": [
       "              area_type   availability  ... balcony   price\n",
       "0  Super built-up  Area         19-Dec  ...     1.0   39.07\n",
       "1            Plot  Area  Ready To Move  ...     3.0  120.00\n",
       "2        Built-up  Area  Ready To Move  ...     3.0   62.00\n",
       "3  Super built-up  Area  Ready To Move  ...     1.0   95.00\n",
       "4  Super built-up  Area  Ready To Move  ...     1.0   51.00\n",
       "\n",
       "[5 rows x 9 columns]"
      ]
     },
     "execution_count": 218,
     "metadata": {},
     "output_type": "execute_result"
    }
   ],
   "source": [
    "df.head()"
   ]
  },
  {
   "cell_type": "code",
   "execution_count": 219,
   "metadata": {},
   "outputs": [
    {
     "data": {
      "text/plain": [
       "(13320, 9)"
      ]
     },
     "execution_count": 219,
     "metadata": {},
     "output_type": "execute_result"
    }
   ],
   "source": [
    "df.shape"
   ]
  },
  {
   "cell_type": "code",
   "execution_count": 220,
   "metadata": {},
   "outputs": [
    {
     "name": "stdout",
     "output_type": "stream",
     "text": [
      "<class 'pandas.core.frame.DataFrame'>\n",
      "RangeIndex: 13320 entries, 0 to 13319\n",
      "Data columns (total 9 columns):\n",
      " #   Column        Non-Null Count  Dtype  \n",
      "---  ------        --------------  -----  \n",
      " 0   area_type     13320 non-null  object \n",
      " 1   availability  13320 non-null  object \n",
      " 2   location      13319 non-null  object \n",
      " 3   size          13304 non-null  object \n",
      " 4   society       7818 non-null   object \n",
      " 5   total_sqft    13320 non-null  object \n",
      " 6   bath          13247 non-null  float64\n",
      " 7   balcony       12711 non-null  float64\n",
      " 8   price         13320 non-null  float64\n",
      "dtypes: float64(3), object(6)\n",
      "memory usage: 936.7+ KB\n"
     ]
    }
   ],
   "source": [
    "df.info()"
   ]
  },
  {
   "cell_type": "code",
   "execution_count": 221,
   "metadata": {},
   "outputs": [
    {
     "data": {
      "application/vnd.microsoft.datawrangler.viewer.v0+json": {
       "columns": [
        {
         "name": "index",
         "rawType": "object",
         "type": "string"
        },
        {
         "name": "bath",
         "rawType": "float64",
         "type": "float"
        },
        {
         "name": "balcony",
         "rawType": "float64",
         "type": "float"
        },
        {
         "name": "price",
         "rawType": "float64",
         "type": "float"
        }
       ],
       "ref": "21d87ed7-9539-4047-b964-70be84dbf6d2",
       "rows": [
        [
         "count",
         "13247.0",
         "12711.0",
         "13320.0"
        ],
        [
         "mean",
         "2.6926096474673513",
         "1.5843757375501535",
         "112.5656265015015"
        ],
        [
         "std",
         "1.3414580781243859",
         "0.8172634299202003",
         "148.97167376967403"
        ],
        [
         "min",
         "1.0",
         "0.0",
         "8.0"
        ],
        [
         "25%",
         "2.0",
         "1.0",
         "50.0"
        ],
        [
         "50%",
         "2.0",
         "2.0",
         "72.0"
        ],
        [
         "75%",
         "3.0",
         "2.0",
         "120.0"
        ],
        [
         "max",
         "40.0",
         "3.0",
         "3600.0"
        ]
       ],
       "shape": {
        "columns": 3,
        "rows": 8
       }
      },
      "text/html": [
       "<div>\n",
       "<style scoped>\n",
       "    .dataframe tbody tr th:only-of-type {\n",
       "        vertical-align: middle;\n",
       "    }\n",
       "\n",
       "    .dataframe tbody tr th {\n",
       "        vertical-align: top;\n",
       "    }\n",
       "\n",
       "    .dataframe thead th {\n",
       "        text-align: right;\n",
       "    }\n",
       "</style>\n",
       "<table border=\"1\" class=\"dataframe\">\n",
       "  <thead>\n",
       "    <tr style=\"text-align: right;\">\n",
       "      <th></th>\n",
       "      <th>bath</th>\n",
       "      <th>balcony</th>\n",
       "      <th>price</th>\n",
       "    </tr>\n",
       "  </thead>\n",
       "  <tbody>\n",
       "    <tr>\n",
       "      <th>count</th>\n",
       "      <td>13247.000000</td>\n",
       "      <td>12711.000000</td>\n",
       "      <td>13320.000000</td>\n",
       "    </tr>\n",
       "    <tr>\n",
       "      <th>mean</th>\n",
       "      <td>2.692610</td>\n",
       "      <td>1.584376</td>\n",
       "      <td>112.565627</td>\n",
       "    </tr>\n",
       "    <tr>\n",
       "      <th>std</th>\n",
       "      <td>1.341458</td>\n",
       "      <td>0.817263</td>\n",
       "      <td>148.971674</td>\n",
       "    </tr>\n",
       "    <tr>\n",
       "      <th>min</th>\n",
       "      <td>1.000000</td>\n",
       "      <td>0.000000</td>\n",
       "      <td>8.000000</td>\n",
       "    </tr>\n",
       "    <tr>\n",
       "      <th>25%</th>\n",
       "      <td>2.000000</td>\n",
       "      <td>1.000000</td>\n",
       "      <td>50.000000</td>\n",
       "    </tr>\n",
       "    <tr>\n",
       "      <th>50%</th>\n",
       "      <td>2.000000</td>\n",
       "      <td>2.000000</td>\n",
       "      <td>72.000000</td>\n",
       "    </tr>\n",
       "    <tr>\n",
       "      <th>75%</th>\n",
       "      <td>3.000000</td>\n",
       "      <td>2.000000</td>\n",
       "      <td>120.000000</td>\n",
       "    </tr>\n",
       "    <tr>\n",
       "      <th>max</th>\n",
       "      <td>40.000000</td>\n",
       "      <td>3.000000</td>\n",
       "      <td>3600.000000</td>\n",
       "    </tr>\n",
       "  </tbody>\n",
       "</table>\n",
       "</div>"
      ],
      "text/plain": [
       "               bath       balcony         price\n",
       "count  13247.000000  12711.000000  13320.000000\n",
       "mean       2.692610      1.584376    112.565627\n",
       "std        1.341458      0.817263    148.971674\n",
       "min        1.000000      0.000000      8.000000\n",
       "25%        2.000000      1.000000     50.000000\n",
       "50%        2.000000      2.000000     72.000000\n",
       "75%        3.000000      2.000000    120.000000\n",
       "max       40.000000      3.000000   3600.000000"
      ]
     },
     "execution_count": 221,
     "metadata": {},
     "output_type": "execute_result"
    }
   ],
   "source": [
    "df.describe()"
   ]
  },
  {
   "cell_type": "markdown",
   "metadata": {},
   "source": [
    "## Checking for null values"
   ]
  },
  {
   "cell_type": "code",
   "execution_count": 222,
   "metadata": {},
   "outputs": [
    {
     "data": {
      "application/vnd.microsoft.datawrangler.viewer.v0+json": {
       "columns": [
        {
         "name": "index",
         "rawType": "object",
         "type": "string"
        },
        {
         "name": "0",
         "rawType": "int64",
         "type": "integer"
        }
       ],
       "ref": "e8ec31ee-bb65-44be-8c5d-794f50a387f8",
       "rows": [
        [
         "area_type",
         "0"
        ],
        [
         "availability",
         "0"
        ],
        [
         "location",
         "1"
        ],
        [
         "size",
         "16"
        ],
        [
         "society",
         "5502"
        ],
        [
         "total_sqft",
         "0"
        ],
        [
         "bath",
         "73"
        ],
        [
         "balcony",
         "609"
        ],
        [
         "price",
         "0"
        ]
       ],
       "shape": {
        "columns": 1,
        "rows": 9
       }
      },
      "text/plain": [
       "area_type          0\n",
       "availability       0\n",
       "location           1\n",
       "size              16\n",
       "society         5502\n",
       "total_sqft         0\n",
       "bath              73\n",
       "balcony          609\n",
       "price              0\n",
       "dtype: int64"
      ]
     },
     "execution_count": 222,
     "metadata": {},
     "output_type": "execute_result"
    }
   ],
   "source": [
    "df.isna().sum()"
   ]
  },
  {
   "cell_type": "markdown",
   "metadata": {},
   "source": [
    "## Dropping the columns that are not so useful for our prediction"
   ]
  },
  {
   "cell_type": "code",
   "execution_count": 223,
   "metadata": {},
   "outputs": [],
   "source": [
    "df.drop(columns=['area_type','availability','society','balcony'],inplace=True)"
   ]
  },
  {
   "cell_type": "code",
   "execution_count": 224,
   "metadata": {},
   "outputs": [
    {
     "data": {
      "application/vnd.microsoft.datawrangler.viewer.v0+json": {
       "columns": [
        {
         "name": "index",
         "rawType": "object",
         "type": "string"
        },
        {
         "name": "0",
         "rawType": "int64",
         "type": "integer"
        }
       ],
       "ref": "ca597b3b-b9e8-47de-94fb-75c866819924",
       "rows": [
        [
         "location",
         "1"
        ],
        [
         "size",
         "16"
        ],
        [
         "total_sqft",
         "0"
        ],
        [
         "bath",
         "73"
        ],
        [
         "price",
         "0"
        ]
       ],
       "shape": {
        "columns": 1,
        "rows": 5
       }
      },
      "text/plain": [
       "location       1\n",
       "size          16\n",
       "total_sqft     0\n",
       "bath          73\n",
       "price          0\n",
       "dtype: int64"
      ]
     },
     "execution_count": 224,
     "metadata": {},
     "output_type": "execute_result"
    }
   ],
   "source": [
    "df.isnull().sum()"
   ]
  },
  {
   "cell_type": "markdown",
   "metadata": {},
   "source": [
    "## Checking for duplicate values\n"
   ]
  },
  {
   "cell_type": "code",
   "execution_count": 225,
   "metadata": {},
   "outputs": [
    {
     "data": {
      "text/plain": [
       "np.int64(882)"
      ]
     },
     "execution_count": 225,
     "metadata": {},
     "output_type": "execute_result"
    }
   ],
   "source": [
    "df.duplicated().sum()"
   ]
  },
  {
   "cell_type": "markdown",
   "metadata": {},
   "source": [
    "## Dropping the duplicate rows"
   ]
  },
  {
   "cell_type": "code",
   "execution_count": 226,
   "metadata": {},
   "outputs": [],
   "source": [
    "df.drop_duplicates(inplace=True)"
   ]
  },
  {
   "cell_type": "code",
   "execution_count": 227,
   "metadata": {},
   "outputs": [
    {
     "data": {
      "text/plain": [
       "np.int64(0)"
      ]
     },
     "execution_count": 227,
     "metadata": {},
     "output_type": "execute_result"
    }
   ],
   "source": [
    "df.duplicated().sum()"
   ]
  },
  {
   "cell_type": "code",
   "execution_count": 228,
   "metadata": {},
   "outputs": [
    {
     "data": {
      "application/vnd.microsoft.datawrangler.viewer.v0+json": {
       "columns": [
        {
         "name": "location",
         "rawType": "object",
         "type": "string"
        },
        {
         "name": "count",
         "rawType": "int64",
         "type": "integer"
        }
       ],
       "ref": "8d0109cc-b857-490b-82bd-5789560f8cab",
       "rows": [
        [
         "Whitefield",
         "507"
        ],
        [
         "Sarjapur  Road",
         "364"
        ],
        [
         "Electronic City",
         "273"
        ],
        [
         "Thanisandra",
         "224"
        ],
        [
         "Kanakpura Road",
         "223"
        ],
        [
         "Yelahanka",
         "209"
        ],
        [
         "Marathahalli",
         "164"
        ],
        [
         "Raja Rajeshwari Nagar",
         "153"
        ],
        [
         "Bannerghatta Road",
         "149"
        ],
        [
         "Hebbal",
         "144"
        ],
        [
         "Uttarahalli",
         "143"
        ],
        [
         "Hennur Road",
         "140"
        ],
        [
         "7th Phase JP Nagar",
         "126"
        ],
        [
         "Electronic City Phase II",
         "107"
        ],
        [
         "Rajaji Nagar",
         "106"
        ],
        [
         "Bellandur",
         "93"
        ],
        [
         "KR Puram",
         "91"
        ],
        [
         "Electronics City Phase 1",
         "88"
        ],
        [
         "Hoodi",
         "88"
        ],
        [
         "Haralur Road",
         "87"
        ],
        [
         "Yeshwanthpur",
         "83"
        ],
        [
         "Sarjapur",
         "82"
        ],
        [
         "Kasavanhalli",
         "79"
        ],
        [
         "Harlur",
         "74"
        ],
        [
         "Kengeri",
         "73"
        ],
        [
         "Begur Road",
         "72"
        ],
        [
         "Hormavu",
         "72"
        ],
        [
         "Ramamurthy Nagar",
         "71"
        ],
        [
         "JP Nagar",
         "71"
        ],
        [
         "Jakkur",
         "69"
        ],
        [
         "Banashankari",
         "69"
        ],
        [
         "Chandapura",
         "68"
        ],
        [
         "Koramangala",
         "68"
        ],
        [
         "Varthur",
         "68"
        ],
        [
         "Hosa Road",
         "66"
        ],
        [
         "Old Madras Road",
         "64"
        ],
        [
         "Kaggadasapura",
         "63"
        ],
        [
         "Kothanur",
         "61"
        ],
        [
         "Nagarbhavi",
         "60"
        ],
        [
         "Akshaya Nagar",
         "59"
        ],
        [
         "Malleshwaram",
         "55"
        ],
        [
         "8th Phase JP Nagar",
         "54"
        ],
        [
         "Jigani",
         "52"
        ],
        [
         "Hulimavu",
         "51"
        ],
        [
         "Panathur",
         "49"
        ],
        [
         "Jalahalli",
         "48"
        ],
        [
         "Hegde Nagar",
         "48"
        ],
        [
         "Budigere",
         "47"
        ],
        [
         "Gottigere",
         "47"
        ],
        [
         "Mysore Road",
         "47"
        ]
       ],
       "shape": {
        "columns": 1,
        "rows": 1305
       }
      },
      "text/plain": [
       "location\n",
       "Whitefield          507\n",
       "Sarjapur  Road      364\n",
       "Electronic City     273\n",
       "Thanisandra         224\n",
       "Kanakpura Road      223\n",
       "                   ... \n",
       "Udayagiri             1\n",
       "pavitra paradise      1\n",
       "kadubisnahalli        1\n",
       "Rahmath Nagar         1\n",
       "Chikkanahalli         1\n",
       "Name: count, Length: 1305, dtype: int64"
      ]
     },
     "execution_count": 228,
     "metadata": {},
     "output_type": "execute_result"
    }
   ],
   "source": [
    "df['location'].value_counts()"
   ]
  },
  {
   "cell_type": "code",
   "execution_count": 229,
   "metadata": {},
   "outputs": [
    {
     "data": {
      "text/plain": [
       "np.int64(1)"
      ]
     },
     "execution_count": 229,
     "metadata": {},
     "output_type": "execute_result"
    }
   ],
   "source": [
    "df.location.isnull().sum()"
   ]
  },
  {
   "cell_type": "markdown",
   "metadata": {},
   "source": [
    "## Filling the missing value in location column by Whitefield(as it's the most common loaction)                     "
   ]
  },
  {
   "cell_type": "code",
   "execution_count": 230,
   "metadata": {},
   "outputs": [],
   "source": [
    "df['location'] = df['location'].fillna(\"Whitefield\")"
   ]
  },
  {
   "cell_type": "code",
   "execution_count": 231,
   "metadata": {},
   "outputs": [
    {
     "data": {
      "application/vnd.microsoft.datawrangler.viewer.v0+json": {
       "columns": [
        {
         "name": "size",
         "rawType": "object",
         "type": "string"
        },
        {
         "name": "count",
         "rawType": "int64",
         "type": "integer"
        }
       ],
       "ref": "790944f6-4baa-4e65-8bd9-c6d6e164a585",
       "rows": [
        [
         "2 BHK",
         "4768"
        ],
        [
         "3 BHK",
         "3988"
        ],
        [
         "4 Bedroom",
         "819"
        ],
        [
         "4 BHK",
         "562"
        ],
        [
         "3 Bedroom",
         "527"
        ],
        [
         "1 BHK",
         "507"
        ],
        [
         "2 Bedroom",
         "303"
        ],
        [
         "5 Bedroom",
         "288"
        ],
        [
         "6 Bedroom",
         "191"
        ],
        [
         "1 Bedroom",
         "100"
        ],
        [
         "8 Bedroom",
         "84"
        ],
        [
         "7 Bedroom",
         "82"
        ],
        [
         "5 BHK",
         "59"
        ],
        [
         "9 Bedroom",
         "46"
        ],
        [
         "6 BHK",
         "30"
        ],
        [
         "7 BHK",
         "17"
        ],
        [
         "1 RK",
         "12"
        ],
        [
         "10 Bedroom",
         "12"
        ],
        [
         "9 BHK",
         "8"
        ],
        [
         "8 BHK",
         "5"
        ],
        [
         "11 BHK",
         "2"
        ],
        [
         "10 BHK",
         "2"
        ],
        [
         "11 Bedroom",
         "2"
        ],
        [
         "27 BHK",
         "1"
        ],
        [
         "19 BHK",
         "1"
        ],
        [
         "43 Bedroom",
         "1"
        ],
        [
         "16 BHK",
         "1"
        ],
        [
         "14 BHK",
         "1"
        ],
        [
         "12 Bedroom",
         "1"
        ],
        [
         "13 BHK",
         "1"
        ],
        [
         "18 Bedroom",
         "1"
        ]
       ],
       "shape": {
        "columns": 1,
        "rows": 31
       }
      },
      "text/plain": [
       "size\n",
       "2 BHK         4768\n",
       "3 BHK         3988\n",
       "4 Bedroom      819\n",
       "4 BHK          562\n",
       "3 Bedroom      527\n",
       "1 BHK          507\n",
       "2 Bedroom      303\n",
       "5 Bedroom      288\n",
       "6 Bedroom      191\n",
       "1 Bedroom      100\n",
       "8 Bedroom       84\n",
       "7 Bedroom       82\n",
       "5 BHK           59\n",
       "9 Bedroom       46\n",
       "6 BHK           30\n",
       "7 BHK           17\n",
       "1 RK            12\n",
       "10 Bedroom      12\n",
       "9 BHK            8\n",
       "8 BHK            5\n",
       "11 BHK           2\n",
       "10 BHK           2\n",
       "11 Bedroom       2\n",
       "27 BHK           1\n",
       "19 BHK           1\n",
       "43 Bedroom       1\n",
       "16 BHK           1\n",
       "14 BHK           1\n",
       "12 Bedroom       1\n",
       "13 BHK           1\n",
       "18 Bedroom       1\n",
       "Name: count, dtype: int64"
      ]
     },
     "execution_count": 231,
     "metadata": {},
     "output_type": "execute_result"
    }
   ],
   "source": [
    "df['size'].value_counts()"
   ]
  },
  {
   "cell_type": "markdown",
   "metadata": {},
   "source": [
    "## Filling the missing values in the size column by 2BHK "
   ]
  },
  {
   "cell_type": "code",
   "execution_count": 232,
   "metadata": {},
   "outputs": [],
   "source": [
    "df['size'] = df['size'].fillna(\"2 BHK\")"
   ]
  },
  {
   "cell_type": "code",
   "execution_count": 233,
   "metadata": {},
   "outputs": [
    {
     "data": {
      "text/plain": [
       "np.int64(0)"
      ]
     },
     "execution_count": 233,
     "metadata": {},
     "output_type": "execute_result"
    }
   ],
   "source": [
    "df['size'].isnull().sum()"
   ]
  },
  {
   "cell_type": "markdown",
   "metadata": {},
   "source": [
    "## Filling the missing values in the bathroom column by it's median"
   ]
  },
  {
   "cell_type": "code",
   "execution_count": 234,
   "metadata": {},
   "outputs": [],
   "source": [
    "df['bath'] = df['bath'].fillna(df['bath'].median())"
   ]
  },
  {
   "cell_type": "code",
   "execution_count": 235,
   "metadata": {},
   "outputs": [
    {
     "data": {
      "text/plain": [
       "np.int64(0)"
      ]
     },
     "execution_count": 235,
     "metadata": {},
     "output_type": "execute_result"
    }
   ],
   "source": [
    "df['bath'].isnull().sum()"
   ]
  },
  {
   "cell_type": "code",
   "execution_count": 236,
   "metadata": {},
   "outputs": [
    {
     "data": {
      "application/vnd.microsoft.datawrangler.viewer.v0+json": {
       "columns": [
        {
         "name": "index",
         "rawType": "object",
         "type": "string"
        },
        {
         "name": "0",
         "rawType": "int64",
         "type": "integer"
        }
       ],
       "ref": "626ac8c7-e6e5-4699-99f7-2c97e7127cd9",
       "rows": [
        [
         "location",
         "0"
        ],
        [
         "size",
         "0"
        ],
        [
         "total_sqft",
         "0"
        ],
        [
         "bath",
         "0"
        ],
        [
         "price",
         "0"
        ]
       ],
       "shape": {
        "columns": 1,
        "rows": 5
       }
      },
      "text/plain": [
       "location      0\n",
       "size          0\n",
       "total_sqft    0\n",
       "bath          0\n",
       "price         0\n",
       "dtype: int64"
      ]
     },
     "execution_count": 236,
     "metadata": {},
     "output_type": "execute_result"
    }
   ],
   "source": [
    "df.isnull().sum()"
   ]
  },
  {
   "cell_type": "markdown",
   "metadata": {},
   "source": [
    "### No more missing values present\n"
   ]
  },
  {
   "cell_type": "markdown",
   "metadata": {},
   "source": [
    "## Since the size column contains discrepancy so we will filter the column and store it in another column"
   ]
  },
  {
   "cell_type": "code",
   "execution_count": 237,
   "metadata": {},
   "outputs": [],
   "source": [
    "df['BHK'] = df['size'].str.split().str.get(0).astype('int')"
   ]
  },
  {
   "cell_type": "code",
   "execution_count": 238,
   "metadata": {},
   "outputs": [
    {
     "data": {
      "application/vnd.microsoft.datawrangler.viewer.v0+json": {
       "columns": [
        {
         "name": "index",
         "rawType": "int64",
         "type": "integer"
        },
        {
         "name": "location",
         "rawType": "object",
         "type": "string"
        },
        {
         "name": "size",
         "rawType": "object",
         "type": "string"
        },
        {
         "name": "total_sqft",
         "rawType": "object",
         "type": "string"
        },
        {
         "name": "bath",
         "rawType": "float64",
         "type": "float"
        },
        {
         "name": "price",
         "rawType": "float64",
         "type": "float"
        },
        {
         "name": "BHK",
         "rawType": "int64",
         "type": "integer"
        }
       ],
       "ref": "71483941-31f3-4925-b730-4c52e57f5792",
       "rows": [
        [
         "0",
         "Electronic City Phase II",
         "2 BHK",
         "1056",
         "2.0",
         "39.07",
         "2"
        ],
        [
         "1",
         "Chikka Tirupathi",
         "4 Bedroom",
         "2600",
         "5.0",
         "120.0",
         "4"
        ],
        [
         "2",
         "Uttarahalli",
         "3 BHK",
         "1440",
         "2.0",
         "62.0",
         "3"
        ],
        [
         "3",
         "Lingadheeranahalli",
         "3 BHK",
         "1521",
         "3.0",
         "95.0",
         "3"
        ],
        [
         "4",
         "Kothanur",
         "2 BHK",
         "1200",
         "2.0",
         "51.0",
         "2"
        ],
        [
         "5",
         "Whitefield",
         "2 BHK",
         "1170",
         "2.0",
         "38.0",
         "2"
        ],
        [
         "6",
         "Old Airport Road",
         "4 BHK",
         "2732",
         "4.0",
         "204.0",
         "4"
        ],
        [
         "7",
         "Rajaji Nagar",
         "4 BHK",
         "3300",
         "4.0",
         "600.0",
         "4"
        ],
        [
         "8",
         "Marathahalli",
         "3 BHK",
         "1310",
         "3.0",
         "63.25",
         "3"
        ],
        [
         "9",
         "Gandhi Bazar",
         "6 Bedroom",
         "1020",
         "6.0",
         "370.0",
         "6"
        ],
        [
         "10",
         "Whitefield",
         "3 BHK",
         "1800",
         "2.0",
         "70.0",
         "3"
        ],
        [
         "11",
         "Whitefield",
         "4 Bedroom",
         "2785",
         "5.0",
         "295.0",
         "4"
        ],
        [
         "12",
         "7th Phase JP Nagar",
         "2 BHK",
         "1000",
         "2.0",
         "38.0",
         "2"
        ],
        [
         "13",
         "Gottigere",
         "2 BHK",
         "1100",
         "2.0",
         "40.0",
         "2"
        ],
        [
         "14",
         "Sarjapur",
         "3 Bedroom",
         "2250",
         "3.0",
         "148.0",
         "3"
        ],
        [
         "15",
         "Mysore Road",
         "2 BHK",
         "1175",
         "2.0",
         "73.5",
         "2"
        ],
        [
         "16",
         "Bisuvanahalli",
         "3 BHK",
         "1180",
         "3.0",
         "48.0",
         "3"
        ],
        [
         "17",
         "Raja Rajeshwari Nagar",
         "3 BHK",
         "1540",
         "3.0",
         "60.0",
         "3"
        ],
        [
         "18",
         "Ramakrishnappa Layout",
         "3 BHK",
         "2770",
         "4.0",
         "290.0",
         "3"
        ],
        [
         "19",
         "Manayata Tech Park",
         "2 BHK",
         "1100",
         "2.0",
         "48.0",
         "2"
        ],
        [
         "20",
         "Kengeri",
         "1 BHK",
         "600",
         "1.0",
         "15.0",
         "1"
        ],
        [
         "21",
         "Binny Pete",
         "3 BHK",
         "1755",
         "3.0",
         "122.0",
         "3"
        ],
        [
         "22",
         "Thanisandra",
         "4 Bedroom",
         "2800",
         "5.0",
         "380.0",
         "4"
        ],
        [
         "23",
         "Bellandur",
         "3 BHK",
         "1767",
         "3.0",
         "103.0",
         "3"
        ],
        [
         "24",
         " Thanisandra",
         "1 RK",
         "510",
         "1.0",
         "25.25",
         "1"
        ],
        [
         "25",
         "Mangammanapalya",
         "3 BHK",
         "1250",
         "3.0",
         "56.0",
         "3"
        ],
        [
         "26",
         "Electronic City",
         "2 BHK",
         "660",
         "1.0",
         "23.1",
         "2"
        ],
        [
         "27",
         "Whitefield",
         "3 BHK",
         "1610",
         "3.0",
         "81.0",
         "3"
        ],
        [
         "28",
         "Ramagondanahalli",
         "2 BHK",
         "1151",
         "2.0",
         "48.77",
         "2"
        ],
        [
         "29",
         "Electronic City",
         "3 BHK",
         "1025",
         "2.0",
         "47.0",
         "3"
        ],
        [
         "30",
         "Yelahanka",
         "4 BHK",
         "2100 - 2850",
         "4.0",
         "186.0",
         "4"
        ],
        [
         "31",
         "Bisuvanahalli",
         "3 BHK",
         "1075",
         "2.0",
         "35.0",
         "3"
        ],
        [
         "32",
         "Hebbal",
         "3 BHK",
         "1760",
         "2.0",
         "123.0",
         "3"
        ],
        [
         "33",
         "Raja Rajeshwari Nagar",
         "3 BHK",
         "1693",
         "3.0",
         "57.39",
         "3"
        ],
        [
         "34",
         "Kasturi Nagar",
         "3 BHK",
         "1925",
         "3.0",
         "125.0",
         "3"
        ],
        [
         "35",
         "Kanakpura Road",
         "2 BHK",
         "700",
         "2.0",
         "36.0",
         "2"
        ],
        [
         "36",
         "Electronics City Phase 1",
         "2 BHK",
         "1070",
         "2.0",
         "45.5",
         "2"
        ],
        [
         "37",
         "Kundalahalli",
         "3 BHK",
         "1724",
         "3.0",
         "125.0",
         "3"
        ],
        [
         "38",
         "Chikkalasandra",
         "3 BHK",
         "1290",
         "2.0",
         "56.12",
         "3"
        ],
        [
         "39",
         "Uttarahalli",
         "2 BHK",
         "1143",
         "2.0",
         "45.0",
         "2"
        ],
        [
         "40",
         "Murugeshpalya",
         "2 BHK",
         "1296",
         "2.0",
         "81.0",
         "2"
        ],
        [
         "41",
         "Sarjapur  Road",
         "3 BHK",
         "1254",
         "3.0",
         "38.0",
         "3"
        ],
        [
         "42",
         "Ganga Nagar",
         "1 BHK",
         "600",
         "1.0",
         "38.0",
         "1"
        ],
        [
         "43",
         "Yelahanka",
         "1 Bedroom",
         "660",
         "1.0",
         "48.0",
         "1"
        ],
        [
         "44",
         "Kanakpura Road",
         "2 BHK",
         "1330.74",
         "2.0",
         "91.79",
         "2"
        ],
        [
         "45",
         "HSR Layout",
         "8 Bedroom",
         "600",
         "9.0",
         "200.0",
         "8"
        ],
        [
         "46",
         "Doddathoguru",
         "2 BHK",
         "970",
         "2.0",
         "33.0",
         "2"
        ],
        [
         "47",
         "Whitefield",
         "2 BHK",
         "1459",
         "2.0",
         "94.82",
         "2"
        ],
        [
         "48",
         "KR Puram",
         "2 Bedroom",
         "800",
         "1.0",
         "130.0",
         "2"
        ],
        [
         "49",
         "Himagiri Meadows",
         "2 BHK",
         "869",
         "2.0",
         "36.0",
         "2"
        ]
       ],
       "shape": {
        "columns": 6,
        "rows": 12438
       }
      },
      "text/html": [
       "<div>\n",
       "<style scoped>\n",
       "    .dataframe tbody tr th:only-of-type {\n",
       "        vertical-align: middle;\n",
       "    }\n",
       "\n",
       "    .dataframe tbody tr th {\n",
       "        vertical-align: top;\n",
       "    }\n",
       "\n",
       "    .dataframe thead th {\n",
       "        text-align: right;\n",
       "    }\n",
       "</style>\n",
       "<table border=\"1\" class=\"dataframe\">\n",
       "  <thead>\n",
       "    <tr style=\"text-align: right;\">\n",
       "      <th></th>\n",
       "      <th>location</th>\n",
       "      <th>size</th>\n",
       "      <th>total_sqft</th>\n",
       "      <th>bath</th>\n",
       "      <th>price</th>\n",
       "      <th>BHK</th>\n",
       "    </tr>\n",
       "  </thead>\n",
       "  <tbody>\n",
       "    <tr>\n",
       "      <th>0</th>\n",
       "      <td>Electronic City Phase II</td>\n",
       "      <td>2 BHK</td>\n",
       "      <td>1056</td>\n",
       "      <td>2.0</td>\n",
       "      <td>39.07</td>\n",
       "      <td>2</td>\n",
       "    </tr>\n",
       "    <tr>\n",
       "      <th>1</th>\n",
       "      <td>Chikka Tirupathi</td>\n",
       "      <td>4 Bedroom</td>\n",
       "      <td>2600</td>\n",
       "      <td>5.0</td>\n",
       "      <td>120.00</td>\n",
       "      <td>4</td>\n",
       "    </tr>\n",
       "    <tr>\n",
       "      <th>2</th>\n",
       "      <td>Uttarahalli</td>\n",
       "      <td>3 BHK</td>\n",
       "      <td>1440</td>\n",
       "      <td>2.0</td>\n",
       "      <td>62.00</td>\n",
       "      <td>3</td>\n",
       "    </tr>\n",
       "    <tr>\n",
       "      <th>3</th>\n",
       "      <td>Lingadheeranahalli</td>\n",
       "      <td>3 BHK</td>\n",
       "      <td>1521</td>\n",
       "      <td>3.0</td>\n",
       "      <td>95.00</td>\n",
       "      <td>3</td>\n",
       "    </tr>\n",
       "    <tr>\n",
       "      <th>4</th>\n",
       "      <td>Kothanur</td>\n",
       "      <td>2 BHK</td>\n",
       "      <td>1200</td>\n",
       "      <td>2.0</td>\n",
       "      <td>51.00</td>\n",
       "      <td>2</td>\n",
       "    </tr>\n",
       "    <tr>\n",
       "      <th>...</th>\n",
       "      <td>...</td>\n",
       "      <td>...</td>\n",
       "      <td>...</td>\n",
       "      <td>...</td>\n",
       "      <td>...</td>\n",
       "      <td>...</td>\n",
       "    </tr>\n",
       "    <tr>\n",
       "      <th>13314</th>\n",
       "      <td>Green Glen Layout</td>\n",
       "      <td>3 BHK</td>\n",
       "      <td>1715</td>\n",
       "      <td>3.0</td>\n",
       "      <td>112.00</td>\n",
       "      <td>3</td>\n",
       "    </tr>\n",
       "    <tr>\n",
       "      <th>13315</th>\n",
       "      <td>Whitefield</td>\n",
       "      <td>5 Bedroom</td>\n",
       "      <td>3453</td>\n",
       "      <td>4.0</td>\n",
       "      <td>231.00</td>\n",
       "      <td>5</td>\n",
       "    </tr>\n",
       "    <tr>\n",
       "      <th>13316</th>\n",
       "      <td>Richards Town</td>\n",
       "      <td>4 BHK</td>\n",
       "      <td>3600</td>\n",
       "      <td>5.0</td>\n",
       "      <td>400.00</td>\n",
       "      <td>4</td>\n",
       "    </tr>\n",
       "    <tr>\n",
       "      <th>13317</th>\n",
       "      <td>Raja Rajeshwari Nagar</td>\n",
       "      <td>2 BHK</td>\n",
       "      <td>1141</td>\n",
       "      <td>2.0</td>\n",
       "      <td>60.00</td>\n",
       "      <td>2</td>\n",
       "    </tr>\n",
       "    <tr>\n",
       "      <th>13318</th>\n",
       "      <td>Padmanabhanagar</td>\n",
       "      <td>4 BHK</td>\n",
       "      <td>4689</td>\n",
       "      <td>4.0</td>\n",
       "      <td>488.00</td>\n",
       "      <td>4</td>\n",
       "    </tr>\n",
       "  </tbody>\n",
       "</table>\n",
       "<p>12438 rows × 6 columns</p>\n",
       "</div>"
      ],
      "text/plain": [
       "                       location       size total_sqft  bath   price  BHK\n",
       "0      Electronic City Phase II      2 BHK       1056   2.0   39.07    2\n",
       "1              Chikka Tirupathi  4 Bedroom       2600   5.0  120.00    4\n",
       "2                   Uttarahalli      3 BHK       1440   2.0   62.00    3\n",
       "3            Lingadheeranahalli      3 BHK       1521   3.0   95.00    3\n",
       "4                      Kothanur      2 BHK       1200   2.0   51.00    2\n",
       "...                         ...        ...        ...   ...     ...  ...\n",
       "13314         Green Glen Layout      3 BHK       1715   3.0  112.00    3\n",
       "13315                Whitefield  5 Bedroom       3453   4.0  231.00    5\n",
       "13316             Richards Town      4 BHK       3600   5.0  400.00    4\n",
       "13317     Raja Rajeshwari Nagar      2 BHK       1141   2.0   60.00    2\n",
       "13318           Padmanabhanagar      4 BHK       4689   4.0  488.00    4\n",
       "\n",
       "[12438 rows x 6 columns]"
      ]
     },
     "execution_count": 238,
     "metadata": {},
     "output_type": "execute_result"
    }
   ],
   "source": [
    "df"
   ]
  },
  {
   "cell_type": "markdown",
   "metadata": {},
   "source": [
    "## Dropping the size column as it is no longer needed"
   ]
  },
  {
   "cell_type": "code",
   "execution_count": 239,
   "metadata": {},
   "outputs": [],
   "source": [
    "df.drop(columns=['size'],inplace=True)"
   ]
  },
  {
   "cell_type": "code",
   "execution_count": 240,
   "metadata": {},
   "outputs": [
    {
     "data": {
      "text/plain": [
       "array(['1056', '2600', '1440', ..., '1133 - 1384', '774', '4689'],\n",
       "      shape=(2117,), dtype=object)"
      ]
     },
     "execution_count": 240,
     "metadata": {},
     "output_type": "execute_result"
    }
   ],
   "source": [
    "df['total_sqft'].unique()"
   ]
  },
  {
   "cell_type": "markdown",
   "metadata": {},
   "source": [
    "### since this column contains range, which is not desired so we will take the mean value of the range"
   ]
  },
  {
   "cell_type": "code",
   "execution_count": 241,
   "metadata": {},
   "outputs": [],
   "source": [
    "def convert_sqft(x):\n",
    "    try:\n",
    "        if '-' in str(x):\n",
    "            temp = x.split('-')\n",
    "            return (float(temp[0]) + float(temp[1])) / 2\n",
    "        return float(x)\n",
    "    except:\n",
    "        return np.nan"
   ]
  },
  {
   "cell_type": "code",
   "execution_count": 242,
   "metadata": {},
   "outputs": [],
   "source": [
    "df['total_sqft'] = df['total_sqft'].apply(convert_sqft)"
   ]
  },
  {
   "cell_type": "code",
   "execution_count": 243,
   "metadata": {},
   "outputs": [],
   "source": [
    "df = df.dropna(subset=['total_sqft']) "
   ]
  },
  {
   "cell_type": "code",
   "execution_count": 244,
   "metadata": {},
   "outputs": [
    {
     "data": {
      "application/vnd.microsoft.datawrangler.viewer.v0+json": {
       "columns": [
        {
         "name": "index",
         "rawType": "int64",
         "type": "integer"
        },
        {
         "name": "location",
         "rawType": "object",
         "type": "string"
        },
        {
         "name": "total_sqft",
         "rawType": "float64",
         "type": "float"
        },
        {
         "name": "bath",
         "rawType": "float64",
         "type": "float"
        },
        {
         "name": "price",
         "rawType": "float64",
         "type": "float"
        },
        {
         "name": "BHK",
         "rawType": "int64",
         "type": "integer"
        }
       ],
       "ref": "7d7854b6-02be-415a-b5bb-1f802df579e0",
       "rows": [
        [
         "0",
         "Electronic City Phase II",
         "1056.0",
         "2.0",
         "39.07",
         "2"
        ],
        [
         "1",
         "Chikka Tirupathi",
         "2600.0",
         "5.0",
         "120.0",
         "4"
        ],
        [
         "2",
         "Uttarahalli",
         "1440.0",
         "2.0",
         "62.0",
         "3"
        ],
        [
         "3",
         "Lingadheeranahalli",
         "1521.0",
         "3.0",
         "95.0",
         "3"
        ],
        [
         "4",
         "Kothanur",
         "1200.0",
         "2.0",
         "51.0",
         "2"
        ],
        [
         "5",
         "Whitefield",
         "1170.0",
         "2.0",
         "38.0",
         "2"
        ],
        [
         "6",
         "Old Airport Road",
         "2732.0",
         "4.0",
         "204.0",
         "4"
        ],
        [
         "7",
         "Rajaji Nagar",
         "3300.0",
         "4.0",
         "600.0",
         "4"
        ],
        [
         "8",
         "Marathahalli",
         "1310.0",
         "3.0",
         "63.25",
         "3"
        ],
        [
         "9",
         "Gandhi Bazar",
         "1020.0",
         "6.0",
         "370.0",
         "6"
        ],
        [
         "10",
         "Whitefield",
         "1800.0",
         "2.0",
         "70.0",
         "3"
        ],
        [
         "11",
         "Whitefield",
         "2785.0",
         "5.0",
         "295.0",
         "4"
        ],
        [
         "12",
         "7th Phase JP Nagar",
         "1000.0",
         "2.0",
         "38.0",
         "2"
        ],
        [
         "13",
         "Gottigere",
         "1100.0",
         "2.0",
         "40.0",
         "2"
        ],
        [
         "14",
         "Sarjapur",
         "2250.0",
         "3.0",
         "148.0",
         "3"
        ],
        [
         "15",
         "Mysore Road",
         "1175.0",
         "2.0",
         "73.5",
         "2"
        ],
        [
         "16",
         "Bisuvanahalli",
         "1180.0",
         "3.0",
         "48.0",
         "3"
        ],
        [
         "17",
         "Raja Rajeshwari Nagar",
         "1540.0",
         "3.0",
         "60.0",
         "3"
        ],
        [
         "18",
         "Ramakrishnappa Layout",
         "2770.0",
         "4.0",
         "290.0",
         "3"
        ],
        [
         "19",
         "Manayata Tech Park",
         "1100.0",
         "2.0",
         "48.0",
         "2"
        ],
        [
         "20",
         "Kengeri",
         "600.0",
         "1.0",
         "15.0",
         "1"
        ],
        [
         "21",
         "Binny Pete",
         "1755.0",
         "3.0",
         "122.0",
         "3"
        ],
        [
         "22",
         "Thanisandra",
         "2800.0",
         "5.0",
         "380.0",
         "4"
        ],
        [
         "23",
         "Bellandur",
         "1767.0",
         "3.0",
         "103.0",
         "3"
        ],
        [
         "24",
         " Thanisandra",
         "510.0",
         "1.0",
         "25.25",
         "1"
        ],
        [
         "25",
         "Mangammanapalya",
         "1250.0",
         "3.0",
         "56.0",
         "3"
        ],
        [
         "26",
         "Electronic City",
         "660.0",
         "1.0",
         "23.1",
         "2"
        ],
        [
         "27",
         "Whitefield",
         "1610.0",
         "3.0",
         "81.0",
         "3"
        ],
        [
         "28",
         "Ramagondanahalli",
         "1151.0",
         "2.0",
         "48.77",
         "2"
        ],
        [
         "29",
         "Electronic City",
         "1025.0",
         "2.0",
         "47.0",
         "3"
        ],
        [
         "30",
         "Yelahanka",
         "2475.0",
         "4.0",
         "186.0",
         "4"
        ],
        [
         "31",
         "Bisuvanahalli",
         "1075.0",
         "2.0",
         "35.0",
         "3"
        ],
        [
         "32",
         "Hebbal",
         "1760.0",
         "2.0",
         "123.0",
         "3"
        ],
        [
         "33",
         "Raja Rajeshwari Nagar",
         "1693.0",
         "3.0",
         "57.39",
         "3"
        ],
        [
         "34",
         "Kasturi Nagar",
         "1925.0",
         "3.0",
         "125.0",
         "3"
        ],
        [
         "35",
         "Kanakpura Road",
         "700.0",
         "2.0",
         "36.0",
         "2"
        ],
        [
         "36",
         "Electronics City Phase 1",
         "1070.0",
         "2.0",
         "45.5",
         "2"
        ],
        [
         "37",
         "Kundalahalli",
         "1724.0",
         "3.0",
         "125.0",
         "3"
        ],
        [
         "38",
         "Chikkalasandra",
         "1290.0",
         "2.0",
         "56.12",
         "3"
        ],
        [
         "39",
         "Uttarahalli",
         "1143.0",
         "2.0",
         "45.0",
         "2"
        ],
        [
         "40",
         "Murugeshpalya",
         "1296.0",
         "2.0",
         "81.0",
         "2"
        ],
        [
         "41",
         "Sarjapur  Road",
         "1254.0",
         "3.0",
         "38.0",
         "3"
        ],
        [
         "42",
         "Ganga Nagar",
         "600.0",
         "1.0",
         "38.0",
         "1"
        ],
        [
         "43",
         "Yelahanka",
         "660.0",
         "1.0",
         "48.0",
         "1"
        ],
        [
         "44",
         "Kanakpura Road",
         "1330.74",
         "2.0",
         "91.79",
         "2"
        ],
        [
         "45",
         "HSR Layout",
         "600.0",
         "9.0",
         "200.0",
         "8"
        ],
        [
         "46",
         "Doddathoguru",
         "970.0",
         "2.0",
         "33.0",
         "2"
        ],
        [
         "47",
         "Whitefield",
         "1459.0",
         "2.0",
         "94.82",
         "2"
        ],
        [
         "48",
         "KR Puram",
         "800.0",
         "1.0",
         "130.0",
         "2"
        ],
        [
         "49",
         "Himagiri Meadows",
         "869.0",
         "2.0",
         "36.0",
         "2"
        ]
       ],
       "shape": {
        "columns": 5,
        "rows": 12392
       }
      },
      "text/html": [
       "<div>\n",
       "<style scoped>\n",
       "    .dataframe tbody tr th:only-of-type {\n",
       "        vertical-align: middle;\n",
       "    }\n",
       "\n",
       "    .dataframe tbody tr th {\n",
       "        vertical-align: top;\n",
       "    }\n",
       "\n",
       "    .dataframe thead th {\n",
       "        text-align: right;\n",
       "    }\n",
       "</style>\n",
       "<table border=\"1\" class=\"dataframe\">\n",
       "  <thead>\n",
       "    <tr style=\"text-align: right;\">\n",
       "      <th></th>\n",
       "      <th>location</th>\n",
       "      <th>total_sqft</th>\n",
       "      <th>bath</th>\n",
       "      <th>price</th>\n",
       "      <th>BHK</th>\n",
       "    </tr>\n",
       "  </thead>\n",
       "  <tbody>\n",
       "    <tr>\n",
       "      <th>0</th>\n",
       "      <td>Electronic City Phase II</td>\n",
       "      <td>1056.0</td>\n",
       "      <td>2.0</td>\n",
       "      <td>39.07</td>\n",
       "      <td>2</td>\n",
       "    </tr>\n",
       "    <tr>\n",
       "      <th>1</th>\n",
       "      <td>Chikka Tirupathi</td>\n",
       "      <td>2600.0</td>\n",
       "      <td>5.0</td>\n",
       "      <td>120.00</td>\n",
       "      <td>4</td>\n",
       "    </tr>\n",
       "    <tr>\n",
       "      <th>2</th>\n",
       "      <td>Uttarahalli</td>\n",
       "      <td>1440.0</td>\n",
       "      <td>2.0</td>\n",
       "      <td>62.00</td>\n",
       "      <td>3</td>\n",
       "    </tr>\n",
       "    <tr>\n",
       "      <th>3</th>\n",
       "      <td>Lingadheeranahalli</td>\n",
       "      <td>1521.0</td>\n",
       "      <td>3.0</td>\n",
       "      <td>95.00</td>\n",
       "      <td>3</td>\n",
       "    </tr>\n",
       "    <tr>\n",
       "      <th>4</th>\n",
       "      <td>Kothanur</td>\n",
       "      <td>1200.0</td>\n",
       "      <td>2.0</td>\n",
       "      <td>51.00</td>\n",
       "      <td>2</td>\n",
       "    </tr>\n",
       "    <tr>\n",
       "      <th>...</th>\n",
       "      <td>...</td>\n",
       "      <td>...</td>\n",
       "      <td>...</td>\n",
       "      <td>...</td>\n",
       "      <td>...</td>\n",
       "    </tr>\n",
       "    <tr>\n",
       "      <th>13314</th>\n",
       "      <td>Green Glen Layout</td>\n",
       "      <td>1715.0</td>\n",
       "      <td>3.0</td>\n",
       "      <td>112.00</td>\n",
       "      <td>3</td>\n",
       "    </tr>\n",
       "    <tr>\n",
       "      <th>13315</th>\n",
       "      <td>Whitefield</td>\n",
       "      <td>3453.0</td>\n",
       "      <td>4.0</td>\n",
       "      <td>231.00</td>\n",
       "      <td>5</td>\n",
       "    </tr>\n",
       "    <tr>\n",
       "      <th>13316</th>\n",
       "      <td>Richards Town</td>\n",
       "      <td>3600.0</td>\n",
       "      <td>5.0</td>\n",
       "      <td>400.00</td>\n",
       "      <td>4</td>\n",
       "    </tr>\n",
       "    <tr>\n",
       "      <th>13317</th>\n",
       "      <td>Raja Rajeshwari Nagar</td>\n",
       "      <td>1141.0</td>\n",
       "      <td>2.0</td>\n",
       "      <td>60.00</td>\n",
       "      <td>2</td>\n",
       "    </tr>\n",
       "    <tr>\n",
       "      <th>13318</th>\n",
       "      <td>Padmanabhanagar</td>\n",
       "      <td>4689.0</td>\n",
       "      <td>4.0</td>\n",
       "      <td>488.00</td>\n",
       "      <td>4</td>\n",
       "    </tr>\n",
       "  </tbody>\n",
       "</table>\n",
       "<p>12392 rows × 5 columns</p>\n",
       "</div>"
      ],
      "text/plain": [
       "                       location  total_sqft  bath   price  BHK\n",
       "0      Electronic City Phase II      1056.0   2.0   39.07    2\n",
       "1              Chikka Tirupathi      2600.0   5.0  120.00    4\n",
       "2                   Uttarahalli      1440.0   2.0   62.00    3\n",
       "3            Lingadheeranahalli      1521.0   3.0   95.00    3\n",
       "4                      Kothanur      1200.0   2.0   51.00    2\n",
       "...                         ...         ...   ...     ...  ...\n",
       "13314         Green Glen Layout      1715.0   3.0  112.00    3\n",
       "13315                Whitefield      3453.0   4.0  231.00    5\n",
       "13316             Richards Town      3600.0   5.0  400.00    4\n",
       "13317     Raja Rajeshwari Nagar      1141.0   2.0   60.00    2\n",
       "13318           Padmanabhanagar      4689.0   4.0  488.00    4\n",
       "\n",
       "[12392 rows x 5 columns]"
      ]
     },
     "execution_count": 244,
     "metadata": {},
     "output_type": "execute_result"
    }
   ],
   "source": [
    "df"
   ]
  },
  {
   "cell_type": "code",
   "execution_count": 245,
   "metadata": {},
   "outputs": [
    {
     "name": "stdout",
     "output_type": "stream",
     "text": [
      "<class 'pandas.core.frame.DataFrame'>\n",
      "Index: 12392 entries, 0 to 13318\n",
      "Data columns (total 5 columns):\n",
      " #   Column      Non-Null Count  Dtype  \n",
      "---  ------      --------------  -----  \n",
      " 0   location    12392 non-null  object \n",
      " 1   total_sqft  12392 non-null  float64\n",
      " 2   bath        12392 non-null  float64\n",
      " 3   price       12392 non-null  float64\n",
      " 4   BHK         12392 non-null  int64  \n",
      "dtypes: float64(3), int64(1), object(1)\n",
      "memory usage: 580.9+ KB\n"
     ]
    }
   ],
   "source": [
    "df.info()"
   ]
  },
  {
   "cell_type": "markdown",
   "metadata": {},
   "source": [
    "## Creating a new column for price per square feet"
   ]
  },
  {
   "cell_type": "code",
   "execution_count": 246,
   "metadata": {},
   "outputs": [],
   "source": [
    "df['price_per_sqft'] = (df['price']*100000)/ df ['total_sqft']"
   ]
  },
  {
   "cell_type": "code",
   "execution_count": 247,
   "metadata": {},
   "outputs": [
    {
     "data": {
      "application/vnd.microsoft.datawrangler.viewer.v0+json": {
       "columns": [
        {
         "name": "index",
         "rawType": "int64",
         "type": "integer"
        },
        {
         "name": "price_per_sqft",
         "rawType": "float64",
         "type": "float"
        }
       ],
       "ref": "fab64dcf-d9b2-4a20-8714-99529591d5da",
       "rows": [
        [
         "0",
         "3699.810606060606"
        ],
        [
         "1",
         "4615.384615384615"
        ],
        [
         "2",
         "4305.555555555556"
        ],
        [
         "3",
         "6245.890861275477"
        ],
        [
         "4",
         "4250.0"
        ],
        [
         "5",
         "3247.863247863248"
        ],
        [
         "6",
         "7467.0571010248905"
        ],
        [
         "7",
         "18181.81818181818"
        ],
        [
         "8",
         "4828.244274809161"
        ],
        [
         "9",
         "36274.509803921566"
        ],
        [
         "10",
         "3888.8888888888887"
        ],
        [
         "11",
         "10592.45960502693"
        ],
        [
         "12",
         "3800.0"
        ],
        [
         "13",
         "3636.3636363636365"
        ],
        [
         "14",
         "6577.777777777777"
        ],
        [
         "15",
         "6255.31914893617"
        ],
        [
         "16",
         "4067.7966101694915"
        ],
        [
         "17",
         "3896.103896103896"
        ],
        [
         "18",
         "10469.314079422382"
        ],
        [
         "19",
         "4363.636363636364"
        ],
        [
         "20",
         "2500.0"
        ],
        [
         "21",
         "6951.5669515669515"
        ],
        [
         "22",
         "13571.42857142857"
        ],
        [
         "23",
         "5829.088851160159"
        ],
        [
         "24",
         "4950.980392156863"
        ],
        [
         "25",
         "4480.0"
        ],
        [
         "26",
         "3500.0"
        ],
        [
         "27",
         "5031.055900621118"
        ],
        [
         "28",
         "4237.185056472633"
        ],
        [
         "29",
         "4585.365853658536"
        ],
        [
         "30",
         "7515.151515151515"
        ],
        [
         "31",
         "3255.813953488372"
        ],
        [
         "32",
         "6988.636363636364"
        ],
        [
         "33",
         "3389.84051978736"
        ],
        [
         "34",
         "6493.506493506494"
        ],
        [
         "35",
         "5142.857142857143"
        ],
        [
         "36",
         "4252.336448598131"
        ],
        [
         "37",
         "7250.580046403712"
        ],
        [
         "38",
         "4350.387596899225"
        ],
        [
         "39",
         "3937.0078740157483"
        ],
        [
         "40",
         "6250.0"
        ],
        [
         "41",
         "3030.3030303030305"
        ],
        [
         "42",
         "6333.333333333333"
        ],
        [
         "43",
         "7272.727272727273"
        ],
        [
         "44",
         "6897.665960292769"
        ],
        [
         "45",
         "33333.333333333336"
        ],
        [
         "46",
         "3402.061855670103"
        ],
        [
         "47",
         "6498.971898560658"
        ],
        [
         "48",
         "16250.0"
        ],
        [
         "49",
         "4142.692750287687"
        ]
       ],
       "shape": {
        "columns": 1,
        "rows": 12392
       }
      },
      "text/plain": [
       "0         3699.810606\n",
       "1         4615.384615\n",
       "2         4305.555556\n",
       "3         6245.890861\n",
       "4         4250.000000\n",
       "             ...     \n",
       "13314     6530.612245\n",
       "13315     6689.834926\n",
       "13316    11111.111111\n",
       "13317     5258.545136\n",
       "13318    10407.336319\n",
       "Name: price_per_sqft, Length: 12392, dtype: float64"
      ]
     },
     "execution_count": 247,
     "metadata": {},
     "output_type": "execute_result"
    }
   ],
   "source": [
    "df['price_per_sqft']"
   ]
  },
  {
   "cell_type": "code",
   "execution_count": 248,
   "metadata": {},
   "outputs": [
    {
     "data": {
      "application/vnd.microsoft.datawrangler.viewer.v0+json": {
       "columns": [
        {
         "name": "index",
         "rawType": "object",
         "type": "string"
        },
        {
         "name": "total_sqft",
         "rawType": "float64",
         "type": "float"
        },
        {
         "name": "bath",
         "rawType": "float64",
         "type": "float"
        },
        {
         "name": "price",
         "rawType": "float64",
         "type": "float"
        },
        {
         "name": "BHK",
         "rawType": "float64",
         "type": "float"
        },
        {
         "name": "price_per_sqft",
         "rawType": "float64",
         "type": "float"
        }
       ],
       "ref": "60ed3750-e4b1-410a-984b-84061332b4ad",
       "rows": [
        [
         "count",
         "12392.0",
         "12392.0",
         "12392.0",
         "12392.0",
         "12392.0"
        ],
        [
         "mean",
         "1576.376848369916",
         "2.714089735313105",
         "115.29876896384764",
         "2.8257746933505485",
         "8099.927675898482"
        ],
        [
         "std",
         "1273.8317718108522",
         "1.3644322643872455",
         "153.18914284016685",
         "1.3201457833398327",
         "110147.91706754985"
        ],
        [
         "min",
         "1.0",
         "1.0",
         "8.0",
         "1.0",
         "267.82981328435875"
        ],
        [
         "25%",
         "1100.0",
         "2.0",
         "50.0",
         "2.0",
         "4306.941141576071"
        ],
        [
         "50%",
         "1288.5",
         "2.0",
         "73.83500000000001",
         "3.0",
         "5500.0"
        ],
        [
         "75%",
         "1700.0",
         "3.0",
         "124.0",
         "3.0",
         "7446.808510638298"
        ],
        [
         "max",
         "52272.0",
         "40.0",
         "3600.0",
         "43.0",
         "12000000.0"
        ]
       ],
       "shape": {
        "columns": 5,
        "rows": 8
       }
      },
      "text/html": [
       "<div>\n",
       "<style scoped>\n",
       "    .dataframe tbody tr th:only-of-type {\n",
       "        vertical-align: middle;\n",
       "    }\n",
       "\n",
       "    .dataframe tbody tr th {\n",
       "        vertical-align: top;\n",
       "    }\n",
       "\n",
       "    .dataframe thead th {\n",
       "        text-align: right;\n",
       "    }\n",
       "</style>\n",
       "<table border=\"1\" class=\"dataframe\">\n",
       "  <thead>\n",
       "    <tr style=\"text-align: right;\">\n",
       "      <th></th>\n",
       "      <th>total_sqft</th>\n",
       "      <th>bath</th>\n",
       "      <th>price</th>\n",
       "      <th>BHK</th>\n",
       "      <th>price_per_sqft</th>\n",
       "    </tr>\n",
       "  </thead>\n",
       "  <tbody>\n",
       "    <tr>\n",
       "      <th>count</th>\n",
       "      <td>12392.000000</td>\n",
       "      <td>12392.000000</td>\n",
       "      <td>12392.000000</td>\n",
       "      <td>12392.000000</td>\n",
       "      <td>1.239200e+04</td>\n",
       "    </tr>\n",
       "    <tr>\n",
       "      <th>mean</th>\n",
       "      <td>1576.376848</td>\n",
       "      <td>2.714090</td>\n",
       "      <td>115.298769</td>\n",
       "      <td>2.825775</td>\n",
       "      <td>8.099928e+03</td>\n",
       "    </tr>\n",
       "    <tr>\n",
       "      <th>std</th>\n",
       "      <td>1273.831772</td>\n",
       "      <td>1.364432</td>\n",
       "      <td>153.189143</td>\n",
       "      <td>1.320146</td>\n",
       "      <td>1.101479e+05</td>\n",
       "    </tr>\n",
       "    <tr>\n",
       "      <th>min</th>\n",
       "      <td>1.000000</td>\n",
       "      <td>1.000000</td>\n",
       "      <td>8.000000</td>\n",
       "      <td>1.000000</td>\n",
       "      <td>2.678298e+02</td>\n",
       "    </tr>\n",
       "    <tr>\n",
       "      <th>25%</th>\n",
       "      <td>1100.000000</td>\n",
       "      <td>2.000000</td>\n",
       "      <td>50.000000</td>\n",
       "      <td>2.000000</td>\n",
       "      <td>4.306941e+03</td>\n",
       "    </tr>\n",
       "    <tr>\n",
       "      <th>50%</th>\n",
       "      <td>1288.500000</td>\n",
       "      <td>2.000000</td>\n",
       "      <td>73.835000</td>\n",
       "      <td>3.000000</td>\n",
       "      <td>5.500000e+03</td>\n",
       "    </tr>\n",
       "    <tr>\n",
       "      <th>75%</th>\n",
       "      <td>1700.000000</td>\n",
       "      <td>3.000000</td>\n",
       "      <td>124.000000</td>\n",
       "      <td>3.000000</td>\n",
       "      <td>7.446809e+03</td>\n",
       "    </tr>\n",
       "    <tr>\n",
       "      <th>max</th>\n",
       "      <td>52272.000000</td>\n",
       "      <td>40.000000</td>\n",
       "      <td>3600.000000</td>\n",
       "      <td>43.000000</td>\n",
       "      <td>1.200000e+07</td>\n",
       "    </tr>\n",
       "  </tbody>\n",
       "</table>\n",
       "</div>"
      ],
      "text/plain": [
       "         total_sqft          bath         price           BHK  price_per_sqft\n",
       "count  12392.000000  12392.000000  12392.000000  12392.000000    1.239200e+04\n",
       "mean    1576.376848      2.714090    115.298769      2.825775    8.099928e+03\n",
       "std     1273.831772      1.364432    153.189143      1.320146    1.101479e+05\n",
       "min        1.000000      1.000000      8.000000      1.000000    2.678298e+02\n",
       "25%     1100.000000      2.000000     50.000000      2.000000    4.306941e+03\n",
       "50%     1288.500000      2.000000     73.835000      3.000000    5.500000e+03\n",
       "75%     1700.000000      3.000000    124.000000      3.000000    7.446809e+03\n",
       "max    52272.000000     40.000000   3600.000000     43.000000    1.200000e+07"
      ]
     },
     "execution_count": 248,
     "metadata": {},
     "output_type": "execute_result"
    }
   ],
   "source": [
    "df.describe()"
   ]
  },
  {
   "cell_type": "code",
   "execution_count": 249,
   "metadata": {},
   "outputs": [
    {
     "data": {
      "application/vnd.microsoft.datawrangler.viewer.v0+json": {
       "columns": [
        {
         "name": "location",
         "rawType": "object",
         "type": "string"
        },
        {
         "name": "count",
         "rawType": "int64",
         "type": "integer"
        }
       ],
       "ref": "7134ddce-6a9a-4037-92f4-91854294157b",
       "rows": [
        [
         "Whitefield",
         "506"
        ],
        [
         "Sarjapur  Road",
         "364"
        ],
        [
         "Electronic City",
         "273"
        ],
        [
         "Thanisandra",
         "223"
        ],
        [
         "Kanakpura Road",
         "221"
        ],
        [
         "Yelahanka",
         "209"
        ],
        [
         "Marathahalli",
         "164"
        ],
        [
         "Raja Rajeshwari Nagar",
         "153"
        ],
        [
         "Bannerghatta Road",
         "148"
        ],
        [
         "Hebbal",
         "144"
        ],
        [
         "Uttarahalli",
         "143"
        ],
        [
         "Hennur Road",
         "140"
        ],
        [
         "7th Phase JP Nagar",
         "125"
        ],
        [
         "Electronic City Phase II",
         "107"
        ],
        [
         "Rajaji Nagar",
         "106"
        ],
        [
         "Bellandur",
         "93"
        ],
        [
         "KR Puram",
         "91"
        ],
        [
         "Electronics City Phase 1",
         "88"
        ],
        [
         "Hoodi",
         "88"
        ],
        [
         "Haralur Road",
         "87"
        ],
        [
         "Yeshwanthpur",
         "83"
        ],
        [
         "Sarjapur",
         "81"
        ],
        [
         "Kasavanhalli",
         "79"
        ],
        [
         "Harlur",
         "74"
        ],
        [
         "Begur Road",
         "72"
        ],
        [
         "Kengeri",
         "72"
        ],
        [
         "Hormavu",
         "72"
        ],
        [
         "Ramamurthy Nagar",
         "70"
        ],
        [
         "JP Nagar",
         "70"
        ],
        [
         "Jakkur",
         "69"
        ],
        [
         "Banashankari",
         "69"
        ],
        [
         "Varthur",
         "68"
        ],
        [
         "Koramangala",
         "68"
        ],
        [
         "Chandapura",
         "68"
        ],
        [
         "Old Madras Road",
         "64"
        ],
        [
         "Hosa Road",
         "63"
        ],
        [
         "Kaggadasapura",
         "63"
        ],
        [
         "Kothanur",
         "61"
        ],
        [
         "Nagarbhavi",
         "60"
        ],
        [
         "Akshaya Nagar",
         "59"
        ],
        [
         "Malleshwaram",
         "55"
        ],
        [
         "8th Phase JP Nagar",
         "54"
        ],
        [
         "Jigani",
         "51"
        ],
        [
         "Hulimavu",
         "50"
        ],
        [
         "Panathur",
         "49"
        ],
        [
         "Jalahalli",
         "48"
        ],
        [
         "Hegde Nagar",
         "48"
        ],
        [
         "Mysore Road",
         "47"
        ],
        [
         "Gottigere",
         "47"
        ],
        [
         "Budigere",
         "47"
        ]
       ],
       "shape": {
        "columns": 1,
        "rows": 1299
       }
      },
      "text/plain": [
       "location\n",
       "Whitefield              506\n",
       "Sarjapur  Road          364\n",
       "Electronic City         273\n",
       "Thanisandra             223\n",
       "Kanakpura Road          221\n",
       "                       ... \n",
       "Kanakapura Road,          1\n",
       "Hal old airport road      1\n",
       "Anantapuram               1\n",
       "Javarandoddi              1\n",
       "Ashraya Layout            1\n",
       "Name: count, Length: 1299, dtype: int64"
      ]
     },
     "execution_count": 249,
     "metadata": {},
     "output_type": "execute_result"
    }
   ],
   "source": [
    "df['location'].value_counts()"
   ]
  },
  {
   "cell_type": "code",
   "execution_count": 250,
   "metadata": {},
   "outputs": [],
   "source": [
    "df['location'] = df['location'].apply(lambda x: x.strip())\n"
   ]
  },
  {
   "cell_type": "code",
   "execution_count": 251,
   "metadata": {},
   "outputs": [],
   "source": [
    "location_count = df['location'].value_counts()"
   ]
  },
  {
   "cell_type": "code",
   "execution_count": 252,
   "metadata": {},
   "outputs": [
    {
     "data": {
      "application/vnd.microsoft.datawrangler.viewer.v0+json": {
       "columns": [
        {
         "name": "location",
         "rawType": "object",
         "type": "string"
        },
        {
         "name": "count",
         "rawType": "int64",
         "type": "integer"
        }
       ],
       "ref": "56dc6ae0-44b6-43ab-bc9f-fb5c154db033",
       "rows": [
        [
         "Naganathapura",
         "10"
        ],
        [
         "Dairy Circle",
         "10"
        ],
        [
         "BEML Layout",
         "10"
        ],
        [
         "Thyagaraja Nagar",
         "10"
        ],
        [
         "Gunjur Palya",
         "10"
        ],
        [
         "Ganga Nagar",
         "10"
        ],
        [
         "Dodsworth Layout",
         "10"
        ],
        [
         "1st Block Koramangala",
         "10"
        ],
        [
         "Sector 1 HSR Layout",
         "10"
        ],
        [
         "Nagappa Reddy Layout",
         "10"
        ],
        [
         "Kalkere",
         "10"
        ],
        [
         "Poorna Pragna Layout",
         "10"
        ],
        [
         "Sadashiva Nagar",
         "10"
        ],
        [
         "ITPL",
         "10"
        ],
        [
         "BTM 1st Stage",
         "10"
        ],
        [
         "Pattandur Agrahara",
         "10"
        ],
        [
         "Vasanthapura",
         "10"
        ],
        [
         "Marsur",
         "10"
        ],
        [
         "Kaverappa Layout",
         "9"
        ],
        [
         "Vignana Nagar",
         "9"
        ],
        [
         "Lingarajapuram",
         "9"
        ],
        [
         "Chennammana Kere",
         "9"
        ],
        [
         "B Narayanapura",
         "9"
        ],
        [
         "4th Block Koramangala",
         "9"
        ],
        [
         "Kamakshipalya",
         "9"
        ],
        [
         "2nd Phase JP Nagar",
         "9"
        ],
        [
         "Medahalli",
         "9"
        ],
        [
         "Nagadevanahalli",
         "9"
        ],
        [
         "Richmond Town",
         "9"
        ],
        [
         "Yemlur",
         "9"
        ],
        [
         "Jakkur Plantation",
         "9"
        ],
        [
         "Mathikere",
         "9"
        ],
        [
         "Narayanapura",
         "9"
        ],
        [
         "Gollahalli",
         "9"
        ],
        [
         "Ejipura",
         "9"
        ],
        [
         "Banagiri Nagar",
         "9"
        ],
        [
         "Peenya",
         "9"
        ],
        [
         "Roopena Agrahara",
         "8"
        ],
        [
         "1st Block HRBR Layout",
         "8"
        ],
        [
         "Vasanth nagar",
         "8"
        ],
        [
         "2nd Phase Judicial Layout",
         "8"
        ],
        [
         "Kattigenahalli",
         "8"
        ],
        [
         "Sidedahalli",
         "8"
        ],
        [
         "MS Pallya",
         "8"
        ],
        [
         "Vishwanatha Nagenahalli",
         "8"
        ],
        [
         "Volagerekallahalli",
         "8"
        ],
        [
         "Basapura",
         "8"
        ],
        [
         "Sathya Sai Layout",
         "8"
        ],
        [
         "Sarjapur Road,",
         "8"
        ],
        [
         "Hoysalanagar",
         "8"
        ]
       ],
       "shape": {
        "columns": 1,
        "rows": 1058
       }
      },
      "text/plain": [
       "location\n",
       "Naganathapura                    10\n",
       "Dairy Circle                     10\n",
       "BEML Layout                      10\n",
       "Thyagaraja Nagar                 10\n",
       "Gunjur Palya                     10\n",
       "                                 ..\n",
       "Gubbi Cross, Hennur Main Road     1\n",
       "Akash Nagar                       1\n",
       "Shauhardha Layout                 1\n",
       "Harohalli                         1\n",
       "Electronic city phase 1,          1\n",
       "Name: count, Length: 1058, dtype: int64"
      ]
     },
     "execution_count": 252,
     "metadata": {},
     "output_type": "execute_result"
    }
   ],
   "source": [
    "location_count_less10 = location_count[location_count<=10]\n",
    "location_count_less10"
   ]
  },
  {
   "cell_type": "code",
   "execution_count": 253,
   "metadata": {},
   "outputs": [],
   "source": [
    "df['location'] = df['location'].apply(lambda x : 'other' if x in location_count_less10 else x)"
   ]
  },
  {
   "cell_type": "code",
   "execution_count": 254,
   "metadata": {},
   "outputs": [
    {
     "data": {
      "application/vnd.microsoft.datawrangler.viewer.v0+json": {
       "columns": [
        {
         "name": "location",
         "rawType": "object",
         "type": "string"
        },
        {
         "name": "count",
         "rawType": "int64",
         "type": "integer"
        }
       ],
       "ref": "ff3b8a31-406a-4751-b439-96299244f198",
       "rows": [
        [
         "other",
         "2918"
        ],
        [
         "Whitefield",
         "507"
        ],
        [
         "Sarjapur  Road",
         "364"
        ],
        [
         "Electronic City",
         "275"
        ],
        [
         "Thanisandra",
         "225"
        ],
        [
         "Kanakpura Road",
         "221"
        ],
        [
         "Yelahanka",
         "209"
        ],
        [
         "Marathahalli",
         "164"
        ],
        [
         "Raja Rajeshwari Nagar",
         "153"
        ],
        [
         "Bannerghatta Road",
         "148"
        ],
        [
         "Hebbal",
         "144"
        ],
        [
         "Uttarahalli",
         "143"
        ],
        [
         "Hennur Road",
         "140"
        ],
        [
         "7th Phase JP Nagar",
         "125"
        ],
        [
         "Electronic City Phase II",
         "107"
        ],
        [
         "Rajaji Nagar",
         "106"
        ],
        [
         "Bellandur",
         "93"
        ],
        [
         "KR Puram",
         "91"
        ],
        [
         "Electronics City Phase 1",
         "88"
        ],
        [
         "Hoodi",
         "88"
        ],
        [
         "Haralur Road",
         "87"
        ],
        [
         "Yeshwanthpur",
         "83"
        ],
        [
         "Sarjapur",
         "81"
        ],
        [
         "Kasavanhalli",
         "79"
        ],
        [
         "Harlur",
         "74"
        ],
        [
         "Begur Road",
         "72"
        ],
        [
         "Kengeri",
         "72"
        ],
        [
         "Hormavu",
         "72"
        ],
        [
         "JP Nagar",
         "70"
        ],
        [
         "Ramamurthy Nagar",
         "70"
        ],
        [
         "Banashankari",
         "69"
        ],
        [
         "Jakkur",
         "69"
        ],
        [
         "Varthur",
         "68"
        ],
        [
         "Koramangala",
         "68"
        ],
        [
         "Chandapura",
         "68"
        ],
        [
         "Old Madras Road",
         "64"
        ],
        [
         "Kaggadasapura",
         "63"
        ],
        [
         "Hosa Road",
         "63"
        ],
        [
         "Kothanur",
         "61"
        ],
        [
         "Nagarbhavi",
         "60"
        ],
        [
         "Akshaya Nagar",
         "59"
        ],
        [
         "Malleshwaram",
         "55"
        ],
        [
         "8th Phase JP Nagar",
         "54"
        ],
        [
         "Jigani",
         "51"
        ],
        [
         "Hulimavu",
         "50"
        ],
        [
         "Panathur",
         "49"
        ],
        [
         "Hegde Nagar",
         "48"
        ],
        [
         "Jalahalli",
         "48"
        ],
        [
         "Gottigere",
         "47"
        ],
        [
         "Budigere",
         "47"
        ]
       ],
       "shape": {
        "columns": 1,
        "rows": 231
       }
      },
      "text/plain": [
       "location\n",
       "other                   2918\n",
       "Whitefield               507\n",
       "Sarjapur  Road           364\n",
       "Electronic City          275\n",
       "Thanisandra              225\n",
       "                        ... \n",
       "Doddakallasandra          11\n",
       "Banashankari Stage V      11\n",
       "Bommenahalli              11\n",
       "Doddaballapur             11\n",
       "HAL 2nd Stage             11\n",
       "Name: count, Length: 231, dtype: int64"
      ]
     },
     "execution_count": 254,
     "metadata": {},
     "output_type": "execute_result"
    }
   ],
   "source": [
    "df['location'].value_counts()"
   ]
  },
  {
   "cell_type": "code",
   "execution_count": 255,
   "metadata": {},
   "outputs": [],
   "source": [
    "df = df[((df['total_sqft']/df['BHK'])>=300)]"
   ]
  },
  {
   "cell_type": "markdown",
   "metadata": {},
   "source": [
    "## Removing outliers"
   ]
  },
  {
   "cell_type": "code",
   "execution_count": 256,
   "metadata": {},
   "outputs": [],
   "source": [
    "def remove_outlier_sqft(df):\n",
    "    df_output = pd.DataFrame()\n",
    "    for key, subdf in df.groupby('location'):\n",
    "        m = subdf['price_per_sqft'].mean()\n",
    "        st = subdf['price_per_sqft'].std()\n",
    "        gen_df = subdf[(subdf['price_per_sqft'] > (m - st)) & (subdf['price_per_sqft'] <= (m + st))]\n",
    "        df_output = pd.concat([df_output, gen_df], ignore_index=True)\n",
    "    return df_output\n",
    "\n",
    "df = remove_outlier_sqft(df)"
   ]
  },
  {
   "cell_type": "code",
   "execution_count": 257,
   "metadata": {},
   "outputs": [],
   "source": [
    "def remove_bhk_outliers(df):\n",
    "    df = df.copy()\n",
    "    exclude_indices = []\n",
    "    for location, location_df in df.groupby('location'):\n",
    "        bhk_stats = {}\n",
    "        for bhk, bhk_df in location_df.groupby('BHK'):\n",
    "            clean_prices = bhk_df['price_per_sqft'].dropna()\n",
    "            if not clean_prices.empty:\n",
    "                bhk_stats[bhk] = {\n",
    "                    \"mean\": clean_prices.mean(),\n",
    "                    \"count\": clean_prices.shape[0]\n",
    "                }\n",
    "        for bhk, bhk_df in location_df.groupby('BHK'):\n",
    "            prev_stats = bhk_stats.get(bhk - 1)\n",
    "            if prev_stats and prev_stats['count'] > 5:\n",
    "                mask = bhk_df['price_per_sqft'] >= prev_stats['mean']\n",
    "                exclude_indices.extend(bhk_df[~mask].index.tolist())\n",
    "    return df.drop(index=exclude_indices)\n",
    "\n",
    "df = remove_bhk_outliers(df)\n"
   ]
  },
  {
   "cell_type": "code",
   "execution_count": 258,
   "metadata": {},
   "outputs": [
    {
     "data": {
      "text/plain": [
       "(6877, 6)"
      ]
     },
     "execution_count": 258,
     "metadata": {},
     "output_type": "execute_result"
    }
   ],
   "source": [
    "df.shape"
   ]
  },
  {
   "cell_type": "code",
   "execution_count": 259,
   "metadata": {},
   "outputs": [
    {
     "data": {
      "application/vnd.microsoft.datawrangler.viewer.v0+json": {
       "columns": [
        {
         "name": "index",
         "rawType": "int64",
         "type": "integer"
        },
        {
         "name": "location",
         "rawType": "object",
         "type": "string"
        },
        {
         "name": "total_sqft",
         "rawType": "float64",
         "type": "float"
        },
        {
         "name": "bath",
         "rawType": "float64",
         "type": "float"
        },
        {
         "name": "price",
         "rawType": "float64",
         "type": "float"
        },
        {
         "name": "BHK",
         "rawType": "int64",
         "type": "integer"
        },
        {
         "name": "price_per_sqft",
         "rawType": "float64",
         "type": "float"
        }
       ],
       "ref": "b3480075-d9bd-4cab-bd72-a7716af6a8a4",
       "rows": [
        [
         "0",
         "1st Block Jayanagar",
         "2850.0",
         "4.0",
         "428.0",
         "4",
         "15017.543859649122"
        ],
        [
         "1",
         "1st Block Jayanagar",
         "1630.0",
         "3.0",
         "194.0",
         "3",
         "11901.840490797545"
        ],
        [
         "2",
         "1st Block Jayanagar",
         "1875.0",
         "2.0",
         "235.0",
         "3",
         "12533.333333333334"
        ],
        [
         "3",
         "1st Block Jayanagar",
         "1200.0",
         "2.0",
         "130.0",
         "3",
         "10833.333333333334"
        ],
        [
         "4",
         "1st Block Jayanagar",
         "1235.0",
         "2.0",
         "148.0",
         "2",
         "11983.805668016194"
        ],
        [
         "5",
         "1st Block Jayanagar",
         "2750.0",
         "4.0",
         "413.0",
         "4",
         "15018.181818181818"
        ],
        [
         "6",
         "1st Block Jayanagar",
         "2450.0",
         "4.0",
         "368.0",
         "4",
         "15020.408163265307"
        ],
        [
         "8",
         "1st Phase JP Nagar",
         "1875.0",
         "3.0",
         "167.0",
         "3",
         "8906.666666666666"
        ],
        [
         "9",
         "1st Phase JP Nagar",
         "1500.0",
         "5.0",
         "85.0",
         "5",
         "5666.666666666667"
        ],
        [
         "10",
         "1st Phase JP Nagar",
         "2065.0",
         "4.0",
         "210.0",
         "3",
         "10169.49152542373"
        ],
        [
         "12",
         "1st Phase JP Nagar",
         "2059.0",
         "3.0",
         "225.0",
         "3",
         "10927.634774162214"
        ],
        [
         "13",
         "1st Phase JP Nagar",
         "1394.0",
         "2.0",
         "100.0",
         "2",
         "7173.601147776184"
        ],
        [
         "14",
         "1st Phase JP Nagar",
         "1077.0",
         "2.0",
         "93.0",
         "2",
         "8635.097493036212"
        ],
        [
         "15",
         "1st Phase JP Nagar",
         "1566.0",
         "2.0",
         "180.0",
         "2",
         "11494.252873563219"
        ],
        [
         "16",
         "1st Phase JP Nagar",
         "840.0",
         "2.0",
         "50.0",
         "1",
         "5952.380952380952"
        ],
        [
         "17",
         "1st Phase JP Nagar",
         "1590.0",
         "3.0",
         "131.0",
         "3",
         "8238.993710691824"
        ],
        [
         "18",
         "1st Phase JP Nagar",
         "2180.0",
         "3.0",
         "210.0",
         "3",
         "9633.02752293578"
        ],
        [
         "19",
         "1st Phase JP Nagar",
         "1180.0",
         "2.0",
         "88.5",
         "2",
         "7500.0"
        ],
        [
         "20",
         "1st Phase JP Nagar",
         "1200.0",
         "2.0",
         "86.0",
         "2",
         "7166.666666666667"
        ],
        [
         "21",
         "1st Phase JP Nagar",
         "1394.0",
         "2.0",
         "85.0",
         "2",
         "6097.5609756097565"
        ],
        [
         "22",
         "1st Phase JP Nagar",
         "2077.0",
         "3.0",
         "175.0",
         "3",
         "8425.613866153106"
        ],
        [
         "24",
         "1st Phase JP Nagar",
         "1205.0",
         "2.0",
         "85.0",
         "2",
         "7053.941908713693"
        ],
        [
         "26",
         "1st Phase JP Nagar",
         "900.0",
         "2.0",
         "75.0",
         "2",
         "8333.333333333334"
        ],
        [
         "27",
         "2nd Stage Nagarbhavi",
         "1500.0",
         "4.0",
         "220.0",
         "4",
         "14666.666666666666"
        ],
        [
         "28",
         "2nd Stage Nagarbhavi",
         "3000.0",
         "8.0",
         "451.0",
         "6",
         "15033.333333333334"
        ],
        [
         "29",
         "2nd Stage Nagarbhavi",
         "2400.0",
         "8.0",
         "450.0",
         "6",
         "18750.0"
        ],
        [
         "30",
         "2nd Stage Nagarbhavi",
         "1350.0",
         "4.0",
         "200.0",
         "4",
         "14814.814814814816"
        ],
        [
         "31",
         "2nd Stage Nagarbhavi",
         "1200.0",
         "4.0",
         "225.0",
         "4",
         "18750.0"
        ],
        [
         "32",
         "2nd Stage Nagarbhavi",
         "1500.0",
         "3.0",
         "230.0",
         "4",
         "15333.333333333334"
        ],
        [
         "33",
         "5th Block Hbr Layout",
         "1206.0",
         "2.0",
         "56.0",
         "2",
         "4643.449419568822"
        ],
        [
         "34",
         "5th Block Hbr Layout",
         "1270.0",
         "2.0",
         "70.0",
         "3",
         "5511.811023622047"
        ],
        [
         "35",
         "5th Block Hbr Layout",
         "1312.0",
         "2.0",
         "69.0",
         "2",
         "5259.1463414634145"
        ],
        [
         "36",
         "5th Block Hbr Layout",
         "1100.0",
         "2.0",
         "48.0",
         "2",
         "4363.636363636364"
        ],
        [
         "37",
         "5th Block Hbr Layout",
         "3600.0",
         "5.0",
         "130.0",
         "5",
         "3611.1111111111113"
        ],
        [
         "38",
         "5th Block Hbr Layout",
         "5100.0",
         "5.0",
         "300.0",
         "6",
         "5882.35294117647"
        ],
        [
         "39",
         "5th Phase JP Nagar",
         "1075.0",
         "2.0",
         "60.0",
         "2",
         "5581.395348837209"
        ],
        [
         "40",
         "5th Phase JP Nagar",
         "1150.0",
         "3.0",
         "52.5",
         "2",
         "4565.217391304348"
        ],
        [
         "41",
         "5th Phase JP Nagar",
         "1256.0",
         "2.0",
         "62.8",
         "2",
         "5000.0"
        ],
        [
         "42",
         "5th Phase JP Nagar",
         "1207.0",
         "2.0",
         "63.0",
         "2",
         "5219.552609776305"
        ],
        [
         "43",
         "5th Phase JP Nagar",
         "1725.0",
         "2.0",
         "100.0",
         "3",
         "5797.101449275362"
        ],
        [
         "44",
         "5th Phase JP Nagar",
         "1440.0",
         "2.0",
         "60.0",
         "2",
         "4166.666666666667"
        ],
        [
         "45",
         "5th Phase JP Nagar",
         "1700.0",
         "2.0",
         "100.0",
         "3",
         "5882.35294117647"
        ],
        [
         "47",
         "5th Phase JP Nagar",
         "2500.0",
         "5.0",
         "110.0",
         "5",
         "4400.0"
        ],
        [
         "48",
         "5th Phase JP Nagar",
         "600.0",
         "1.0",
         "30.0",
         "1",
         "5000.0"
        ],
        [
         "49",
         "5th Phase JP Nagar",
         "1390.0",
         "2.0",
         "65.0",
         "2",
         "4676.258992805755"
        ],
        [
         "50",
         "5th Phase JP Nagar",
         "1000.0",
         "2.0",
         "48.0",
         "2",
         "4800.0"
        ],
        [
         "51",
         "5th Phase JP Nagar",
         "1350.0",
         "2.0",
         "75.0",
         "3",
         "5555.555555555556"
        ],
        [
         "52",
         "5th Phase JP Nagar",
         "552.0",
         "1.0",
         "23.5",
         "1",
         "4257.246376811594"
        ],
        [
         "53",
         "5th Phase JP Nagar",
         "1200.0",
         "2.0",
         "51.0",
         "2",
         "4250.0"
        ],
        [
         "57",
         "5th Phase JP Nagar",
         "1030.0",
         "2.0",
         "57.0",
         "2",
         "5533.980582524272"
        ]
       ],
       "shape": {
        "columns": 6,
        "rows": 6877
       }
      },
      "text/html": [
       "<div>\n",
       "<style scoped>\n",
       "    .dataframe tbody tr th:only-of-type {\n",
       "        vertical-align: middle;\n",
       "    }\n",
       "\n",
       "    .dataframe tbody tr th {\n",
       "        vertical-align: top;\n",
       "    }\n",
       "\n",
       "    .dataframe thead th {\n",
       "        text-align: right;\n",
       "    }\n",
       "</style>\n",
       "<table border=\"1\" class=\"dataframe\">\n",
       "  <thead>\n",
       "    <tr style=\"text-align: right;\">\n",
       "      <th></th>\n",
       "      <th>location</th>\n",
       "      <th>total_sqft</th>\n",
       "      <th>bath</th>\n",
       "      <th>price</th>\n",
       "      <th>BHK</th>\n",
       "      <th>price_per_sqft</th>\n",
       "    </tr>\n",
       "  </thead>\n",
       "  <tbody>\n",
       "    <tr>\n",
       "      <th>0</th>\n",
       "      <td>1st Block Jayanagar</td>\n",
       "      <td>2850.0</td>\n",
       "      <td>4.0</td>\n",
       "      <td>428.0</td>\n",
       "      <td>4</td>\n",
       "      <td>15017.543860</td>\n",
       "    </tr>\n",
       "    <tr>\n",
       "      <th>1</th>\n",
       "      <td>1st Block Jayanagar</td>\n",
       "      <td>1630.0</td>\n",
       "      <td>3.0</td>\n",
       "      <td>194.0</td>\n",
       "      <td>3</td>\n",
       "      <td>11901.840491</td>\n",
       "    </tr>\n",
       "    <tr>\n",
       "      <th>2</th>\n",
       "      <td>1st Block Jayanagar</td>\n",
       "      <td>1875.0</td>\n",
       "      <td>2.0</td>\n",
       "      <td>235.0</td>\n",
       "      <td>3</td>\n",
       "      <td>12533.333333</td>\n",
       "    </tr>\n",
       "    <tr>\n",
       "      <th>3</th>\n",
       "      <td>1st Block Jayanagar</td>\n",
       "      <td>1200.0</td>\n",
       "      <td>2.0</td>\n",
       "      <td>130.0</td>\n",
       "      <td>3</td>\n",
       "      <td>10833.333333</td>\n",
       "    </tr>\n",
       "    <tr>\n",
       "      <th>4</th>\n",
       "      <td>1st Block Jayanagar</td>\n",
       "      <td>1235.0</td>\n",
       "      <td>2.0</td>\n",
       "      <td>148.0</td>\n",
       "      <td>2</td>\n",
       "      <td>11983.805668</td>\n",
       "    </tr>\n",
       "    <tr>\n",
       "      <th>...</th>\n",
       "      <td>...</td>\n",
       "      <td>...</td>\n",
       "      <td>...</td>\n",
       "      <td>...</td>\n",
       "      <td>...</td>\n",
       "      <td>...</td>\n",
       "    </tr>\n",
       "    <tr>\n",
       "      <th>9635</th>\n",
       "      <td>other</td>\n",
       "      <td>1650.0</td>\n",
       "      <td>1.0</td>\n",
       "      <td>130.0</td>\n",
       "      <td>2</td>\n",
       "      <td>7878.787879</td>\n",
       "    </tr>\n",
       "    <tr>\n",
       "      <th>9639</th>\n",
       "      <td>other</td>\n",
       "      <td>1155.0</td>\n",
       "      <td>2.0</td>\n",
       "      <td>64.0</td>\n",
       "      <td>2</td>\n",
       "      <td>5541.125541</td>\n",
       "    </tr>\n",
       "    <tr>\n",
       "      <th>9641</th>\n",
       "      <td>other</td>\n",
       "      <td>1200.0</td>\n",
       "      <td>2.0</td>\n",
       "      <td>70.0</td>\n",
       "      <td>2</td>\n",
       "      <td>5833.333333</td>\n",
       "    </tr>\n",
       "    <tr>\n",
       "      <th>9642</th>\n",
       "      <td>other</td>\n",
       "      <td>1800.0</td>\n",
       "      <td>1.0</td>\n",
       "      <td>200.0</td>\n",
       "      <td>1</td>\n",
       "      <td>11111.111111</td>\n",
       "    </tr>\n",
       "    <tr>\n",
       "      <th>9646</th>\n",
       "      <td>other</td>\n",
       "      <td>3600.0</td>\n",
       "      <td>5.0</td>\n",
       "      <td>400.0</td>\n",
       "      <td>4</td>\n",
       "      <td>11111.111111</td>\n",
       "    </tr>\n",
       "  </tbody>\n",
       "</table>\n",
       "<p>6877 rows × 6 columns</p>\n",
       "</div>"
      ],
      "text/plain": [
       "                 location  total_sqft  bath  price  BHK  price_per_sqft\n",
       "0     1st Block Jayanagar      2850.0   4.0  428.0    4    15017.543860\n",
       "1     1st Block Jayanagar      1630.0   3.0  194.0    3    11901.840491\n",
       "2     1st Block Jayanagar      1875.0   2.0  235.0    3    12533.333333\n",
       "3     1st Block Jayanagar      1200.0   2.0  130.0    3    10833.333333\n",
       "4     1st Block Jayanagar      1235.0   2.0  148.0    2    11983.805668\n",
       "...                   ...         ...   ...    ...  ...             ...\n",
       "9635                other      1650.0   1.0  130.0    2     7878.787879\n",
       "9639                other      1155.0   2.0   64.0    2     5541.125541\n",
       "9641                other      1200.0   2.0   70.0    2     5833.333333\n",
       "9642                other      1800.0   1.0  200.0    1    11111.111111\n",
       "9646                other      3600.0   5.0  400.0    4    11111.111111\n",
       "\n",
       "[6877 rows x 6 columns]"
      ]
     },
     "execution_count": 259,
     "metadata": {},
     "output_type": "execute_result"
    }
   ],
   "source": [
    "df"
   ]
  },
  {
   "cell_type": "markdown",
   "metadata": {},
   "source": [
    "## removing the unnecessary columns"
   ]
  },
  {
   "cell_type": "code",
   "execution_count": 260,
   "metadata": {},
   "outputs": [],
   "source": [
    "df.drop(columns=['price_per_sqft'],inplace=True)"
   ]
  },
  {
   "cell_type": "code",
   "execution_count": 261,
   "metadata": {},
   "outputs": [
    {
     "data": {
      "application/vnd.microsoft.datawrangler.viewer.v0+json": {
       "columns": [
        {
         "name": "index",
         "rawType": "int64",
         "type": "integer"
        },
        {
         "name": "location",
         "rawType": "object",
         "type": "string"
        },
        {
         "name": "total_sqft",
         "rawType": "float64",
         "type": "float"
        },
        {
         "name": "bath",
         "rawType": "float64",
         "type": "float"
        },
        {
         "name": "price",
         "rawType": "float64",
         "type": "float"
        },
        {
         "name": "BHK",
         "rawType": "int64",
         "type": "integer"
        }
       ],
       "ref": "a5d4c46e-575e-4c9a-938d-f5464b73cac0",
       "rows": [
        [
         "0",
         "1st Block Jayanagar",
         "2850.0",
         "4.0",
         "428.0",
         "4"
        ],
        [
         "1",
         "1st Block Jayanagar",
         "1630.0",
         "3.0",
         "194.0",
         "3"
        ],
        [
         "2",
         "1st Block Jayanagar",
         "1875.0",
         "2.0",
         "235.0",
         "3"
        ],
        [
         "3",
         "1st Block Jayanagar",
         "1200.0",
         "2.0",
         "130.0",
         "3"
        ],
        [
         "4",
         "1st Block Jayanagar",
         "1235.0",
         "2.0",
         "148.0",
         "2"
        ]
       ],
       "shape": {
        "columns": 5,
        "rows": 5
       }
      },
      "text/html": [
       "<div>\n",
       "<style scoped>\n",
       "    .dataframe tbody tr th:only-of-type {\n",
       "        vertical-align: middle;\n",
       "    }\n",
       "\n",
       "    .dataframe tbody tr th {\n",
       "        vertical-align: top;\n",
       "    }\n",
       "\n",
       "    .dataframe thead th {\n",
       "        text-align: right;\n",
       "    }\n",
       "</style>\n",
       "<table border=\"1\" class=\"dataframe\">\n",
       "  <thead>\n",
       "    <tr style=\"text-align: right;\">\n",
       "      <th></th>\n",
       "      <th>location</th>\n",
       "      <th>total_sqft</th>\n",
       "      <th>bath</th>\n",
       "      <th>price</th>\n",
       "      <th>BHK</th>\n",
       "    </tr>\n",
       "  </thead>\n",
       "  <tbody>\n",
       "    <tr>\n",
       "      <th>0</th>\n",
       "      <td>1st Block Jayanagar</td>\n",
       "      <td>2850.0</td>\n",
       "      <td>4.0</td>\n",
       "      <td>428.0</td>\n",
       "      <td>4</td>\n",
       "    </tr>\n",
       "    <tr>\n",
       "      <th>1</th>\n",
       "      <td>1st Block Jayanagar</td>\n",
       "      <td>1630.0</td>\n",
       "      <td>3.0</td>\n",
       "      <td>194.0</td>\n",
       "      <td>3</td>\n",
       "    </tr>\n",
       "    <tr>\n",
       "      <th>2</th>\n",
       "      <td>1st Block Jayanagar</td>\n",
       "      <td>1875.0</td>\n",
       "      <td>2.0</td>\n",
       "      <td>235.0</td>\n",
       "      <td>3</td>\n",
       "    </tr>\n",
       "    <tr>\n",
       "      <th>3</th>\n",
       "      <td>1st Block Jayanagar</td>\n",
       "      <td>1200.0</td>\n",
       "      <td>2.0</td>\n",
       "      <td>130.0</td>\n",
       "      <td>3</td>\n",
       "    </tr>\n",
       "    <tr>\n",
       "      <th>4</th>\n",
       "      <td>1st Block Jayanagar</td>\n",
       "      <td>1235.0</td>\n",
       "      <td>2.0</td>\n",
       "      <td>148.0</td>\n",
       "      <td>2</td>\n",
       "    </tr>\n",
       "  </tbody>\n",
       "</table>\n",
       "</div>"
      ],
      "text/plain": [
       "              location  total_sqft  bath  price  BHK\n",
       "0  1st Block Jayanagar      2850.0   4.0  428.0    4\n",
       "1  1st Block Jayanagar      1630.0   3.0  194.0    3\n",
       "2  1st Block Jayanagar      1875.0   2.0  235.0    3\n",
       "3  1st Block Jayanagar      1200.0   2.0  130.0    3\n",
       "4  1st Block Jayanagar      1235.0   2.0  148.0    2"
      ]
     },
     "execution_count": 261,
     "metadata": {},
     "output_type": "execute_result"
    }
   ],
   "source": [
    "df.head()"
   ]
  },
  {
   "cell_type": "markdown",
   "metadata": {},
   "source": [
    "## Saving the cleaned data in .csv format"
   ]
  },
  {
   "cell_type": "code",
   "execution_count": 262,
   "metadata": {},
   "outputs": [],
   "source": [
    "df.to_csv(\"cleaned_house_data.csv\")"
   ]
  },
  {
   "cell_type": "markdown",
   "metadata": {},
   "source": [
    "## X, Y split"
   ]
  },
  {
   "cell_type": "code",
   "execution_count": 263,
   "metadata": {},
   "outputs": [],
   "source": [
    "x = df.drop(columns=['price'])\n",
    "y = df['price']"
   ]
  },
  {
   "cell_type": "markdown",
   "metadata": {},
   "source": [
    "## Train test split"
   ]
  },
  {
   "cell_type": "code",
   "execution_count": 264,
   "metadata": {},
   "outputs": [],
   "source": [
    "x_train,x_test,y_train,y_test = train_test_split(x,y,test_size=0.2,random_state=42)"
   ]
  },
  {
   "cell_type": "code",
   "execution_count": 265,
   "metadata": {},
   "outputs": [
    {
     "data": {
      "text/plain": [
       "((5501, 4), (1376, 4))"
      ]
     },
     "execution_count": 265,
     "metadata": {},
     "output_type": "execute_result"
    }
   ],
   "source": [
    "x_train.shape,x_test.shape"
   ]
  },
  {
   "cell_type": "markdown",
   "metadata": {},
   "source": [
    "## Encoding the location column"
   ]
  },
  {
   "cell_type": "code",
   "execution_count": 266,
   "metadata": {},
   "outputs": [],
   "source": [
    "column_trans = make_column_transformer(\n",
    "    (OneHotEncoder(drop='first', sparse_output=False), ['location']),\n",
    "    remainder='passthrough'\n",
    ")"
   ]
  },
  {
   "cell_type": "markdown",
   "metadata": {},
   "source": [
    "## Defining different models for comparison "
   ]
  },
  {
   "cell_type": "code",
   "execution_count": 267,
   "metadata": {},
   "outputs": [],
   "source": [
    "models = {\n",
    "    \"Linear Regression\": LinearRegression(),\n",
    "    \"Lasso Regression\": Lasso(),\n",
    "    \"Ridge Regression\": Ridge(),\n",
    "    \"Decision Tree\": DecisionTreeRegressor(random_state=42),\n",
    "    \"Random Forest\": RandomForestRegressor(random_state=42),\n",
    "    \"XGBoost\": XGBRegressor(random_state=42)\n",
    "}"
   ]
  },
  {
   "cell_type": "code",
   "execution_count": 268,
   "metadata": {},
   "outputs": [
    {
     "name": "stdout",
     "output_type": "stream",
     "text": [
      "Linear Regression: Mean CV R² Score = 0.8413\n",
      "Lasso Regression: Mean CV R² Score = 0.8333\n",
      "Ridge Regression: Mean CV R² Score = 0.8413\n",
      "Decision Tree: Mean CV R² Score = 0.7397\n",
      "Random Forest: Mean CV R² Score = 0.7869\n",
      "XGBoost: Mean CV R² Score = 0.8328\n",
      "\n",
      "Best Model Before Tuning: Ridge Regression\n",
      "\n",
      "Final Selected Model: Ridge Regression\n",
      "Test R² Score: 0.8016\n",
      "MAE: 19.6350\n",
      "RMSE: 39.9124\n"
     ]
    }
   ],
   "source": [
    "best_model = None\n",
    "best_score = -np.inf\n",
    "best_model_name = None\n",
    "\n",
    "for name, model in models.items():\n",
    "    pipe = make_pipeline(column_trans, StandardScaler(with_mean=False), model)\n",
    "    scores = cross_val_score(pipe, x_train, y_train, cv=5, scoring='r2')\n",
    "    mean_score = np.mean(scores)\n",
    "    print(f\"{name}: Mean CV R² Score = {mean_score:.4f}\")\n",
    "    if mean_score > best_score:\n",
    "        best_score = mean_score\n",
    "        best_model = pipe\n",
    "        best_model_name = name\n",
    "\n",
    "print(f\"\\nBest Model Before Tuning: {best_model_name}\")\n",
    "\n",
    "# Hyperparameter tuning\n",
    "param_grids = {\n",
    "    \"XGBoost\": {\n",
    "        \"xgbregressor__n_estimators\": [50, 100, 200],\n",
    "        \"xgbregressor__learning_rate\": [0.01, 0.1, 0.2],\n",
    "        \"xgbregressor__max_depth\": [3, 5, 7],\n",
    "        \"xgbregressor__subsample\": [0.8, 1.0],\n",
    "        \"xgbregressor__colsample_bytree\": [0.8, 1.0]\n",
    "    },\n",
    "    \"Random Forest\": {\n",
    "        \"randomforestregressor__n_estimators\": [50, 100, 200],\n",
    "        \"randomforestregressor__max_depth\": [5, 10, None],\n",
    "        \"randomforestregressor__min_samples_split\": [2, 5, 10],\n",
    "        \"randomforestregressor__min_samples_leaf\": [1, 2, 4]\n",
    "    }\n",
    "}\n",
    "\n",
    "# Perform tuning for the best model\n",
    "if best_model_name in param_grids:\n",
    "    grid_search = GridSearchCV(best_model, param_grids[best_model_name], cv=5, scoring='r2', n_jobs=-1)\n",
    "    grid_search.fit(x_train, y_train)\n",
    "    best_model = grid_search.best_estimator_\n",
    "    print(f\"\\nBest Hyperparameters: {grid_search.best_params_}\")\n",
    "\n",
    "# Train and evaluate the best model\n",
    "best_model.fit(x_train, y_train)\n",
    "y_pred = best_model.predict(x_test)\n",
    "\n",
    "# Print final metrics\n",
    "print(f\"\\nFinal Selected Model: {best_model_name}\")\n",
    "print(f\"Test R² Score: {r2_score(y_test, y_pred):.4f}\")\n",
    "print(f\"MAE: {mean_absolute_error(y_test, y_pred):.4f}\")\n",
    "print(f\"RMSE: {np.sqrt(mean_squared_error(y_test, y_pred)):.4f}\")"
   ]
  },
  {
   "cell_type": "code",
   "execution_count": 269,
   "metadata": {},
   "outputs": [],
   "source": [
    "import pickle\n",
    "pickle.dump(best_model, open('BestModel.pkl', 'wb'))  "
   ]
  }
 ],
 "metadata": {
  "kernelspec": {
   "display_name": ".venv",
   "language": "python",
   "name": "python3"
  },
  "language_info": {
   "codemirror_mode": {
    "name": "ipython",
    "version": 3
   },
   "file_extension": ".py",
   "mimetype": "text/x-python",
   "name": "python",
   "nbconvert_exporter": "python",
   "pygments_lexer": "ipython3",
   "version": "3.13.5"
  }
 },
 "nbformat": 4,
 "nbformat_minor": 2
}
